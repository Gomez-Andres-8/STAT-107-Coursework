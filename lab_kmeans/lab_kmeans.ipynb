{
 "cells": [
  {
   "attachments": {},
   "cell_type": "markdown",
   "metadata": {},
   "source": [
    "# Welcome to lab_kmeans! 🌎\n",
    "\n",
    "In this lab, you will continue your exploration of machine learning by doing some KMeans clustering! \n",
    "\n",
    "A few tips to remember:\n",
    "\n",
    "- **You are not alone on your journey in learning programming!** You have your lab Teaching Assistant, your Course Aides, your lab group, and the professors (Prof. Wade and Prof. Karle), who are all here to help you out!\n",
    "- If you find yourself stuck for more than a few minutes, ask a neighbor or course staff for help! When you are giving help to your neighbor, explain the **idea and approach** to the problem without sharing the answer itself so they can have the same ***ah-hah*** moment!\n",
    "- We are here to help you! Don't feel embarrassed or shy to ask us for help!\n",
    "\n",
    "Let's get started!"
   ]
  },
  {
   "cell_type": "code",
   "execution_count": 95,
   "metadata": {},
   "outputs": [],
   "source": [
    "# Meet your CAs and TA if you haven't already!\n",
    "# ...first name is enough, we'll know who they are! :)\n",
    "ta_name = \"Kim\"\n",
    "ca1_name = \"Jessica\"\n",
    "ca2_name = \"Sony\"\n",
    "\n",
    "\n",
    "# Say hello to each other!\n",
    "# - Groups of 3 are ideal :)\n",
    "# - However, groups of 2 or 4 are fine too!\n",
    "#\n",
    "# Question of the Day (QOTD) to Ask Your Group: \"What's your favorite movie?\"\n",
    "partner1_name = \"Aamir\"\n",
    "partner1_netid = \"aabjani2\"\n",
    "partner1_fav_movie = \"The lightning Thief\"\n",
    "\n",
    "partner2_name = \"Brianna\"\n",
    "partner2_netid = \"bfons2\"\n",
    "partner2_fav_movie = \"As Above So Below\"\n",
    "\n",
    "partner3_name = \"Brian\"\n",
    "partner3_netid = \"bzilles\"\n",
    "partner3_fav_movie = \"How to train your dragon\""
   ]
  },
  {
   "cell_type": "markdown",
   "metadata": {},
   "source": [
    "<hr style=\"color: #DD3403;\">"
   ]
  },
  {
   "attachments": {},
   "cell_type": "markdown",
   "metadata": {},
   "source": [
    "# Part 1: The World Happiness Dataset\n",
    "Every year, the UN Sustainable Development Solutions Network (SDSN) creates a **report** detailing the \"happiness\" of various countries in the world. Utilizing economic, social, and health data, they create the [World Happiness Report](https://worldhappiness.report/about/). Curators of the report **observed survey data** of seven variables (GDP Per Capita, Social Support, Life Expectancy, Freedom, Generosity, Corruption, and Dystopia), estimating their **associations with life** evaluations, ultimately coming up with a `Happiness Score` for each country.  \n",
    "\n",
    "Some of their report uses data that we can analyze for this lab. We've collected a version of the 2023 **World Happiness** into a dataset and provided it in **CSV format** - it's the `happiness-report-2023.csv` file! \n",
    "\n",
    "## Puzzle 1.1: Loading In\n",
    "\n",
    "Load the **World Happiness Dataset** from `happiness-report-2023.csv` and store it in the DataFrame `df`:"
   ]
  },
  {
   "cell_type": "code",
   "execution_count": 96,
   "metadata": {},
   "outputs": [
    {
     "data": {
      "text/html": [
       "<div>\n",
       "<style scoped>\n",
       "    .dataframe tbody tr th:only-of-type {\n",
       "        vertical-align: middle;\n",
       "    }\n",
       "\n",
       "    .dataframe tbody tr th {\n",
       "        vertical-align: top;\n",
       "    }\n",
       "\n",
       "    .dataframe thead th {\n",
       "        text-align: right;\n",
       "    }\n",
       "</style>\n",
       "<table border=\"1\" class=\"dataframe\">\n",
       "  <thead>\n",
       "    <tr style=\"text-align: right;\">\n",
       "      <th></th>\n",
       "      <th>Country</th>\n",
       "      <th>Happiness Score</th>\n",
       "      <th>GDP Per Capita</th>\n",
       "      <th>Social Support</th>\n",
       "      <th>Healthy Life Expectancy</th>\n",
       "      <th>Freedom</th>\n",
       "      <th>Generosity</th>\n",
       "      <th>Corruption</th>\n",
       "      <th>Dystopia</th>\n",
       "    </tr>\n",
       "  </thead>\n",
       "  <tbody>\n",
       "    <tr>\n",
       "      <th>0</th>\n",
       "      <td>Finland</td>\n",
       "      <td>7.804</td>\n",
       "      <td>10.792</td>\n",
       "      <td>0.969</td>\n",
       "      <td>71.150</td>\n",
       "      <td>0.961</td>\n",
       "      <td>-0.019</td>\n",
       "      <td>0.182</td>\n",
       "      <td>2.363</td>\n",
       "    </tr>\n",
       "    <tr>\n",
       "      <th>1</th>\n",
       "      <td>Denmark</td>\n",
       "      <td>7.586</td>\n",
       "      <td>10.962</td>\n",
       "      <td>0.954</td>\n",
       "      <td>71.250</td>\n",
       "      <td>0.934</td>\n",
       "      <td>0.134</td>\n",
       "      <td>0.196</td>\n",
       "      <td>2.084</td>\n",
       "    </tr>\n",
       "    <tr>\n",
       "      <th>2</th>\n",
       "      <td>Iceland</td>\n",
       "      <td>7.530</td>\n",
       "      <td>10.896</td>\n",
       "      <td>0.983</td>\n",
       "      <td>72.050</td>\n",
       "      <td>0.936</td>\n",
       "      <td>0.211</td>\n",
       "      <td>0.668</td>\n",
       "      <td>2.250</td>\n",
       "    </tr>\n",
       "    <tr>\n",
       "      <th>3</th>\n",
       "      <td>Israel</td>\n",
       "      <td>7.473</td>\n",
       "      <td>10.639</td>\n",
       "      <td>0.943</td>\n",
       "      <td>72.697</td>\n",
       "      <td>0.809</td>\n",
       "      <td>-0.023</td>\n",
       "      <td>0.708</td>\n",
       "      <td>2.691</td>\n",
       "    </tr>\n",
       "    <tr>\n",
       "      <th>4</th>\n",
       "      <td>Netherlands</td>\n",
       "      <td>7.403</td>\n",
       "      <td>10.942</td>\n",
       "      <td>0.930</td>\n",
       "      <td>71.550</td>\n",
       "      <td>0.887</td>\n",
       "      <td>0.213</td>\n",
       "      <td>0.379</td>\n",
       "      <td>2.110</td>\n",
       "    </tr>\n",
       "    <tr>\n",
       "      <th>...</th>\n",
       "      <td>...</td>\n",
       "      <td>...</td>\n",
       "      <td>...</td>\n",
       "      <td>...</td>\n",
       "      <td>...</td>\n",
       "      <td>...</td>\n",
       "      <td>...</td>\n",
       "      <td>...</td>\n",
       "      <td>...</td>\n",
       "    </tr>\n",
       "    <tr>\n",
       "      <th>132</th>\n",
       "      <td>Congo (Kinshasa)</td>\n",
       "      <td>3.207</td>\n",
       "      <td>7.007</td>\n",
       "      <td>0.652</td>\n",
       "      <td>55.375</td>\n",
       "      <td>0.664</td>\n",
       "      <td>0.086</td>\n",
       "      <td>0.834</td>\n",
       "      <td>1.162</td>\n",
       "    </tr>\n",
       "    <tr>\n",
       "      <th>133</th>\n",
       "      <td>Zimbabwe</td>\n",
       "      <td>3.204</td>\n",
       "      <td>7.641</td>\n",
       "      <td>0.690</td>\n",
       "      <td>54.050</td>\n",
       "      <td>0.654</td>\n",
       "      <td>-0.046</td>\n",
       "      <td>0.766</td>\n",
       "      <td>0.905</td>\n",
       "    </tr>\n",
       "    <tr>\n",
       "      <th>134</th>\n",
       "      <td>Sierra Leone</td>\n",
       "      <td>3.138</td>\n",
       "      <td>7.394</td>\n",
       "      <td>0.555</td>\n",
       "      <td>54.900</td>\n",
       "      <td>0.660</td>\n",
       "      <td>0.105</td>\n",
       "      <td>0.858</td>\n",
       "      <td>1.221</td>\n",
       "    </tr>\n",
       "    <tr>\n",
       "      <th>135</th>\n",
       "      <td>Lebanon</td>\n",
       "      <td>2.392</td>\n",
       "      <td>9.478</td>\n",
       "      <td>0.530</td>\n",
       "      <td>66.149</td>\n",
       "      <td>0.474</td>\n",
       "      <td>-0.141</td>\n",
       "      <td>0.891</td>\n",
       "      <td>-0.110</td>\n",
       "    </tr>\n",
       "    <tr>\n",
       "      <th>136</th>\n",
       "      <td>Afghanistan</td>\n",
       "      <td>1.859</td>\n",
       "      <td>7.324</td>\n",
       "      <td>0.341</td>\n",
       "      <td>54.712</td>\n",
       "      <td>0.382</td>\n",
       "      <td>-0.081</td>\n",
       "      <td>0.847</td>\n",
       "      <td>0.976</td>\n",
       "    </tr>\n",
       "  </tbody>\n",
       "</table>\n",
       "<p>137 rows × 9 columns</p>\n",
       "</div>"
      ],
      "text/plain": [
       "              Country  Happiness Score  GDP Per Capita  Social Support  \\\n",
       "0             Finland            7.804          10.792           0.969   \n",
       "1             Denmark            7.586          10.962           0.954   \n",
       "2             Iceland            7.530          10.896           0.983   \n",
       "3              Israel            7.473          10.639           0.943   \n",
       "4         Netherlands            7.403          10.942           0.930   \n",
       "..                ...              ...             ...             ...   \n",
       "132  Congo (Kinshasa)            3.207           7.007           0.652   \n",
       "133          Zimbabwe            3.204           7.641           0.690   \n",
       "134      Sierra Leone            3.138           7.394           0.555   \n",
       "135           Lebanon            2.392           9.478           0.530   \n",
       "136       Afghanistan            1.859           7.324           0.341   \n",
       "\n",
       "     Healthy Life Expectancy  Freedom  Generosity  Corruption  Dystopia  \n",
       "0                     71.150    0.961      -0.019       0.182     2.363  \n",
       "1                     71.250    0.934       0.134       0.196     2.084  \n",
       "2                     72.050    0.936       0.211       0.668     2.250  \n",
       "3                     72.697    0.809      -0.023       0.708     2.691  \n",
       "4                     71.550    0.887       0.213       0.379     2.110  \n",
       "..                       ...      ...         ...         ...       ...  \n",
       "132                   55.375    0.664       0.086       0.834     1.162  \n",
       "133                   54.050    0.654      -0.046       0.766     0.905  \n",
       "134                   54.900    0.660       0.105       0.858     1.221  \n",
       "135                   66.149    0.474      -0.141       0.891    -0.110  \n",
       "136                   54.712    0.382      -0.081       0.847     0.976  \n",
       "\n",
       "[137 rows x 9 columns]"
      ]
     },
     "execution_count": 96,
     "metadata": {},
     "output_type": "execute_result"
    }
   ],
   "source": [
    "import pandas as pd\n",
    "df = pd.read_csv(\"happiness-report-2023.csv\")\n",
    "df"
   ]
  },
  {
   "cell_type": "markdown",
   "metadata": {},
   "source": [
    "### 🔬 Test Case Checkpoint 🔬"
   ]
  },
  {
   "cell_type": "code",
   "execution_count": 97,
   "metadata": {},
   "outputs": [
    {
     "name": "stdout",
     "output_type": "stream",
     "text": [
      "🎉 All tests passed! 🎉\n"
     ]
    }
   ],
   "source": [
    "## == TEST CASES for Puzzle 1.1 ==\n",
    "# - This read-only cell contains test cases for your previous cell.\n",
    "# - If this cell runs without any error our output, you PASSED all test cases!\n",
    "# - If this cell results in any errors, check you previous cell, make changes, and RE-RUN your code and then this cell.\n",
    "assert('df' in vars()), \"The DataFrame should be loaded in as a variable named `df`.\"\n",
    "assert(len(df) == 137), \"This is not the dataset we are looking for...\"\n",
    "assert('Happiness Score' in df), \"This is not the dataset we are looking for...\"\n",
    "\n",
    "## == SUCCESS MESSAGE ==\n",
    "# You will only see this message (with the emoji showing) if you passed all test cases:\n",
    "tada = \"\\N{PARTY POPPER}\"\n",
    "print(f\"{tada} All tests passed! {tada}\")"
   ]
  },
  {
   "attachments": {},
   "cell_type": "markdown",
   "metadata": {},
   "source": [
    "## Puzzle 1.2: Correlation Coefficients\n",
    "Let's explore a bit about our dataset. It's always good practice to explore and understand your data before performing any machine learning task. Generate the **correlation coefficient matrix** of our **World Happiness Dataset**, `df` in the cell below:"
   ]
  },
  {
   "cell_type": "code",
   "execution_count": 98,
   "metadata": {},
   "outputs": [
    {
     "name": "stderr",
     "output_type": "stream",
     "text": [
      "C:\\Users\\Andres Gomez\\AppData\\Local\\Temp\\ipykernel_13688\\1134722465.py:1: FutureWarning: The default value of numeric_only in DataFrame.corr is deprecated. In a future version, it will default to False. Select only valid columns or specify the value of numeric_only to silence this warning.\n",
      "  df.corr()\n"
     ]
    },
    {
     "data": {
      "text/html": [
       "<div>\n",
       "<style scoped>\n",
       "    .dataframe tbody tr th:only-of-type {\n",
       "        vertical-align: middle;\n",
       "    }\n",
       "\n",
       "    .dataframe tbody tr th {\n",
       "        vertical-align: top;\n",
       "    }\n",
       "\n",
       "    .dataframe thead th {\n",
       "        text-align: right;\n",
       "    }\n",
       "</style>\n",
       "<table border=\"1\" class=\"dataframe\">\n",
       "  <thead>\n",
       "    <tr style=\"text-align: right;\">\n",
       "      <th></th>\n",
       "      <th>Happiness Score</th>\n",
       "      <th>GDP Per Capita</th>\n",
       "      <th>Social Support</th>\n",
       "      <th>Healthy Life Expectancy</th>\n",
       "      <th>Freedom</th>\n",
       "      <th>Generosity</th>\n",
       "      <th>Corruption</th>\n",
       "      <th>Dystopia</th>\n",
       "    </tr>\n",
       "  </thead>\n",
       "  <tbody>\n",
       "    <tr>\n",
       "      <th>Happiness Score</th>\n",
       "      <td>1.000000</td>\n",
       "      <td>0.784367</td>\n",
       "      <td>0.834532</td>\n",
       "      <td>0.746928</td>\n",
       "      <td>0.662924</td>\n",
       "      <td>0.044082</td>\n",
       "      <td>-0.471911</td>\n",
       "      <td>0.494452</td>\n",
       "    </tr>\n",
       "    <tr>\n",
       "      <th>GDP Per Capita</th>\n",
       "      <td>0.784367</td>\n",
       "      <td>1.000000</td>\n",
       "      <td>0.738069</td>\n",
       "      <td>0.837533</td>\n",
       "      <td>0.451439</td>\n",
       "      <td>-0.156456</td>\n",
       "      <td>-0.436961</td>\n",
       "      <td>-0.044568</td>\n",
       "    </tr>\n",
       "    <tr>\n",
       "      <th>Social Support</th>\n",
       "      <td>0.834532</td>\n",
       "      <td>0.738069</td>\n",
       "      <td>1.000000</td>\n",
       "      <td>0.725524</td>\n",
       "      <td>0.541630</td>\n",
       "      <td>0.036574</td>\n",
       "      <td>-0.272490</td>\n",
       "      <td>0.148731</td>\n",
       "    </tr>\n",
       "    <tr>\n",
       "      <th>Healthy Life Expectancy</th>\n",
       "      <td>0.746928</td>\n",
       "      <td>0.837533</td>\n",
       "      <td>0.725524</td>\n",
       "      <td>1.000000</td>\n",
       "      <td>0.415092</td>\n",
       "      <td>-0.135036</td>\n",
       "      <td>-0.404396</td>\n",
       "      <td>-0.014420</td>\n",
       "    </tr>\n",
       "    <tr>\n",
       "      <th>Freedom</th>\n",
       "      <td>0.662924</td>\n",
       "      <td>0.451439</td>\n",
       "      <td>0.541630</td>\n",
       "      <td>0.415092</td>\n",
       "      <td>1.000000</td>\n",
       "      <td>0.170229</td>\n",
       "      <td>-0.383786</td>\n",
       "      <td>0.211993</td>\n",
       "    </tr>\n",
       "    <tr>\n",
       "      <th>Generosity</th>\n",
       "      <td>0.044082</td>\n",
       "      <td>-0.156456</td>\n",
       "      <td>0.036574</td>\n",
       "      <td>-0.135036</td>\n",
       "      <td>0.170229</td>\n",
       "      <td>1.000000</td>\n",
       "      <td>-0.122653</td>\n",
       "      <td>0.016380</td>\n",
       "    </tr>\n",
       "    <tr>\n",
       "      <th>Corruption</th>\n",
       "      <td>-0.471911</td>\n",
       "      <td>-0.436961</td>\n",
       "      <td>-0.272490</td>\n",
       "      <td>-0.404396</td>\n",
       "      <td>-0.383786</td>\n",
       "      <td>-0.122653</td>\n",
       "      <td>1.000000</td>\n",
       "      <td>-0.004467</td>\n",
       "    </tr>\n",
       "    <tr>\n",
       "      <th>Dystopia</th>\n",
       "      <td>0.494452</td>\n",
       "      <td>-0.044568</td>\n",
       "      <td>0.148731</td>\n",
       "      <td>-0.014420</td>\n",
       "      <td>0.211993</td>\n",
       "      <td>0.016380</td>\n",
       "      <td>-0.004467</td>\n",
       "      <td>1.000000</td>\n",
       "    </tr>\n",
       "  </tbody>\n",
       "</table>\n",
       "</div>"
      ],
      "text/plain": [
       "                         Happiness Score  GDP Per Capita  Social Support  \\\n",
       "Happiness Score                 1.000000        0.784367        0.834532   \n",
       "GDP Per Capita                  0.784367        1.000000        0.738069   \n",
       "Social Support                  0.834532        0.738069        1.000000   \n",
       "Healthy Life Expectancy         0.746928        0.837533        0.725524   \n",
       "Freedom                         0.662924        0.451439        0.541630   \n",
       "Generosity                      0.044082       -0.156456        0.036574   \n",
       "Corruption                     -0.471911       -0.436961       -0.272490   \n",
       "Dystopia                        0.494452       -0.044568        0.148731   \n",
       "\n",
       "                         Healthy Life Expectancy   Freedom  Generosity  \\\n",
       "Happiness Score                         0.746928  0.662924    0.044082   \n",
       "GDP Per Capita                          0.837533  0.451439   -0.156456   \n",
       "Social Support                          0.725524  0.541630    0.036574   \n",
       "Healthy Life Expectancy                 1.000000  0.415092   -0.135036   \n",
       "Freedom                                 0.415092  1.000000    0.170229   \n",
       "Generosity                             -0.135036  0.170229    1.000000   \n",
       "Corruption                             -0.404396 -0.383786   -0.122653   \n",
       "Dystopia                               -0.014420  0.211993    0.016380   \n",
       "\n",
       "                         Corruption  Dystopia  \n",
       "Happiness Score           -0.471911  0.494452  \n",
       "GDP Per Capita            -0.436961 -0.044568  \n",
       "Social Support            -0.272490  0.148731  \n",
       "Healthy Life Expectancy   -0.404396 -0.014420  \n",
       "Freedom                   -0.383786  0.211993  \n",
       "Generosity                -0.122653  0.016380  \n",
       "Corruption                 1.000000 -0.004467  \n",
       "Dystopia                  -0.004467  1.000000  "
      ]
     },
     "execution_count": 98,
     "metadata": {},
     "output_type": "execute_result"
    }
   ],
   "source": [
    "df.corr()"
   ]
  },
  {
   "attachments": {},
   "cell_type": "markdown",
   "metadata": {},
   "source": [
    "### Group Analysis: Correlations\n",
    "\n",
    "In the correlation coefficient matrix, the largest value not on the main diagonal was `0.837533` and the lowest was `-0.471911`.\n",
    "\n",
    "**Q1: What does this tell you about the linear correlation of our dataset?**"
   ]
  },
  {
   "attachments": {},
   "cell_type": "markdown",
   "metadata": {},
   "source": [
    "*(✏️ This means that there are different variable that have a stronger correlation with Happiness Score than others. ✏️)*"
   ]
  },
  {
   "attachments": {},
   "cell_type": "markdown",
   "metadata": {},
   "source": [
    "**Q2: Which two columns were the most highly correlated, producing a coefficient of `0.837533`? Given the real-life context, does this make sense? Why or why not?**"
   ]
  },
  {
   "attachments": {},
   "cell_type": "markdown",
   "metadata": {},
   "source": [
    "*(✏️ Social support and happiness score. This makes sense given that social support has almost always shown an effect in happiness. ✏️)*"
   ]
  },
  {
   "attachments": {},
   "cell_type": "markdown",
   "metadata": {},
   "source": [
    "**Q3: All of the columns in our dataset show significant correlation with `Happiness Score` except for `Generosity` (with a coefficient of `0.044082`).This means there is almost no relationship between the percieved `Generosity` of a country and it's `Happiness Score`. How you make sense of this?**"
   ]
  },
  {
   "attachments": {},
   "cell_type": "markdown",
   "metadata": {},
   "source": [
    "*(✏️ I think that Generosity might not have an strong relationship with happiness possibly because of the greater effect external and internal negativity is  ✏️)*"
   ]
  },
  {
   "attachments": {},
   "cell_type": "markdown",
   "metadata": {},
   "source": [
    "## Puzzle 1.3: Visualization\n",
    "Now, let's visualize the relationships between some variables in our dataset. \n",
    "\n",
    "Using `df.plot.scatter()`, generate a scatterplot showing the relationship between `GDP Per Capita` and `Healthy Life Expectancy`. Remember to specify these columns as the **x** and **y** of the scatterplot.\n"
   ]
  },
  {
   "cell_type": "code",
   "execution_count": 99,
   "metadata": {},
   "outputs": [
    {
     "data": {
      "text/plain": [
       "<Axes: xlabel='GDP Per Capita', ylabel='Healthy Life Expectancy'>"
      ]
     },
     "execution_count": 99,
     "metadata": {},
     "output_type": "execute_result"
    },
    {
     "data": {
      "image/png": "[encoded data removed]",
      "text/plain": [
       "<Figure size 640x480 with 1 Axes>"
      ]
     },
     "metadata": {},
     "output_type": "display_data"
    }
   ],
   "source": [
    "df.plot.scatter( \"GDP Per Capita\", \"Healthy Life Expectancy\")"
   ]
  },
  {
   "attachments": {},
   "cell_type": "markdown",
   "metadata": {},
   "source": [
    "**Q4: Observing the plot above, how would you divide the data into two groups (clusters)?**"
   ]
  },
  {
   "attachments": {},
   "cell_type": "markdown",
   "metadata": {},
   "source": [
    "*(✏️ I would group one cluster in the left bottom half and another in the right upper half  ✏️)*"
   ]
  },
  {
   "attachments": {},
   "cell_type": "markdown",
   "metadata": {},
   "source": [
    "Now, generate a scatterplot showing the relationship between `Happiness Score` and `Generosity`:"
   ]
  },
  {
   "cell_type": "code",
   "execution_count": 100,
   "metadata": {},
   "outputs": [
    {
     "data": {
      "text/plain": [
       "<Axes: xlabel='Happiness Score', ylabel='Generosity'>"
      ]
     },
     "execution_count": 100,
     "metadata": {},
     "output_type": "execute_result"
    },
    {
     "data": {
      "image/png": "[encoded data removed]",
      "text/plain": [
       "<Figure size 640x480 with 1 Axes>"
      ]
     },
     "metadata": {},
     "output_type": "display_data"
    }
   ],
   "source": [
    "df.plot.scatter(\"Happiness Score\", \"Generosity\")"
   ]
  },
  {
   "attachments": {},
   "cell_type": "markdown",
   "metadata": {},
   "source": [
    "**Q5: Observing the plot above, how would you divide the data into two groups (clusters)?**"
   ]
  },
  {
   "attachments": {},
   "cell_type": "markdown",
   "metadata": {},
   "source": [
    "*(✏️ I would divide it by having one group in the right half and another in the left half ✏️)*"
   ]
  },
  {
   "cell_type": "markdown",
   "metadata": {},
   "source": [
    "<hr style=\"color: #DD3403;\">"
   ]
  },
  {
   "attachments": {},
   "cell_type": "markdown",
   "metadata": {},
   "source": [
    "# Part 2: Clustering\n",
    "Now that we've observed some relationships in our dataset, it's time to try **clustering the data**! You may have noticed that our dataset contains fairly high **correlation coefficients** across **multiple columns**. Despite this, it will still be **valuable** to perform **KMeans clustering**. \n",
    "\n",
    "With a **KMeans clustering** model, we will be able to both:\n",
    "- Identify potential relationships between **non-linear** variables, and\n",
    "- Identify the **most important *features*** of our dataset by looking at **cluster centroids**\n",
    "\n",
    "Before we begin, remember that KMeans clustering is a method of **unsupervised** machine learning, meaning unlike `lab_regression`, we **do not provide** **labels** or target values. Rather, we will **allow the model** to determine **groups of the data** based on their similarity alone. \n",
    "\n",
    "## Part 2.1: Creating a KMeans Model\n",
    "\n",
    "In the cell below, create a new KMeans model named `kmeans` that contains just **two (2) clusters**:\n"
   ]
  },
  {
   "cell_type": "code",
   "execution_count": 101,
   "metadata": {},
   "outputs": [],
   "source": [
    "# Import the KMeans library:\n",
    "from sklearn.cluster import KMeans\n",
    "\n",
    "# Create a KMeans model:\n",
    "kmeans = KMeans(n_clusters=2)"
   ]
  },
  {
   "attachments": {},
   "cell_type": "markdown",
   "metadata": {},
   "source": [
    "## Part 2.2: Fitting Numeric Columns to the Model\n",
    "The KMeans model only works on **numeric data** (*you can't find a mean -- or average -- of non-numbers*). The following code provides a list of all the **numeric columns** in our `df`. We've provided you with the cell below to define and store the `numeric_columns` list.\n",
    "\n",
    "*Do not modify the cell below - just **run it!***"
   ]
  },
  {
   "cell_type": "code",
   "execution_count": 102,
   "metadata": {},
   "outputs": [
    {
     "data": {
      "text/plain": [
       "['Happiness Score',\n",
       " 'GDP Per Capita',\n",
       " 'Social Support',\n",
       " 'Healthy Life Expectancy',\n",
       " 'Freedom',\n",
       " 'Generosity',\n",
       " 'Corruption',\n",
       " 'Dystopia']"
      ]
     },
     "execution_count": 102,
     "metadata": {},
     "output_type": "execute_result"
    }
   ],
   "source": [
    "numeric_columns = ['Happiness Score', 'GDP Per Capita', 'Social Support', 'Healthy Life Expectancy', 'Freedom', 'Generosity', 'Corruption','Dystopia']\n",
    "numeric_columns"
   ]
  },
  {
   "attachments": {},
   "cell_type": "markdown",
   "metadata": {},
   "source": [
    "Try to `fit` the kmeans model data from the `numeric_columns`.\n",
    "\n",
    "Note: You should **expect to see** a `ValueError: Input X contains NaN.!` Make sure to get that **error message** - this is **intended**!"
   ]
  },
  {
   "cell_type": "code",
   "execution_count": 103,
   "metadata": {},
   "outputs": [
    {
     "ename": "ValueError",
     "evalue": "Input X contains NaN.\nKMeans does not accept missing values encoded as NaN natively. For supervised learning, you might want to consider sklearn.ensemble.HistGradientBoostingClassifier and Regressor which accept missing values encoded as NaNs natively. Alternatively, it is possible to preprocess the data, for instance by using an imputer transformer in a pipeline or drop samples with missing values. See https://scikit-learn.org/stable/modules/impute.html You can find a list of all estimators that handle NaN values at the following page: https://scikit-learn.org/stable/modules/impute.html#estimators-that-handle-nan-values",
     "output_type": "error",
     "traceback": [
      "\u001b[1;31m---------------------------------------------------------------------------\u001b[0m",
      "\u001b[1;31mValueError\u001b[0m                                Traceback (most recent call last)",
      "Cell \u001b[1;32mIn[103], line 1\u001b[0m\n\u001b[1;32m----> 1\u001b[0m kmeans\u001b[39m.\u001b[39;49mfit(df[numeric_columns])\n",
      "File \u001b[1;32mc:\\Users\\Andres Gomez\\AppData\\Local\\Programs\\Python\\Python311\\Lib\\site-packages\\sklearn\\cluster\\_kmeans.py:1417\u001b[0m, in \u001b[0;36mKMeans.fit\u001b[1;34m(self, X, y, sample_weight)\u001b[0m\n\u001b[0;32m   1390\u001b[0m \u001b[39m\u001b[39m\u001b[39m\"\"\"Compute k-means clustering.\u001b[39;00m\n\u001b[0;32m   1391\u001b[0m \n\u001b[0;32m   1392\u001b[0m \u001b[39mParameters\u001b[39;00m\n\u001b[1;32m   (...)\u001b[0m\n\u001b[0;32m   1413\u001b[0m \u001b[39m    Fitted estimator.\u001b[39;00m\n\u001b[0;32m   1414\u001b[0m \u001b[39m\"\"\"\u001b[39;00m\n\u001b[0;32m   1415\u001b[0m \u001b[39mself\u001b[39m\u001b[39m.\u001b[39m_validate_params()\n\u001b[1;32m-> 1417\u001b[0m X \u001b[39m=\u001b[39m \u001b[39mself\u001b[39;49m\u001b[39m.\u001b[39;49m_validate_data(\n\u001b[0;32m   1418\u001b[0m     X,\n\u001b[0;32m   1419\u001b[0m     accept_sparse\u001b[39m=\u001b[39;49m\u001b[39m\"\u001b[39;49m\u001b[39mcsr\u001b[39;49m\u001b[39m\"\u001b[39;49m,\n\u001b[0;32m   1420\u001b[0m     dtype\u001b[39m=\u001b[39;49m[np\u001b[39m.\u001b[39;49mfloat64, np\u001b[39m.\u001b[39;49mfloat32],\n\u001b[0;32m   1421\u001b[0m     order\u001b[39m=\u001b[39;49m\u001b[39m\"\u001b[39;49m\u001b[39mC\u001b[39;49m\u001b[39m\"\u001b[39;49m,\n\u001b[0;32m   1422\u001b[0m     copy\u001b[39m=\u001b[39;49m\u001b[39mself\u001b[39;49m\u001b[39m.\u001b[39;49mcopy_x,\n\u001b[0;32m   1423\u001b[0m     accept_large_sparse\u001b[39m=\u001b[39;49m\u001b[39mFalse\u001b[39;49;00m,\n\u001b[0;32m   1424\u001b[0m )\n\u001b[0;32m   1426\u001b[0m \u001b[39mself\u001b[39m\u001b[39m.\u001b[39m_check_params_vs_input(X)\n\u001b[0;32m   1428\u001b[0m random_state \u001b[39m=\u001b[39m check_random_state(\u001b[39mself\u001b[39m\u001b[39m.\u001b[39mrandom_state)\n",
      "File \u001b[1;32mc:\\Users\\Andres Gomez\\AppData\\Local\\Programs\\Python\\Python311\\Lib\\site-packages\\sklearn\\base.py:565\u001b[0m, in \u001b[0;36mBaseEstimator._validate_data\u001b[1;34m(self, X, y, reset, validate_separately, **check_params)\u001b[0m\n\u001b[0;32m    563\u001b[0m     \u001b[39mraise\u001b[39;00m \u001b[39mValueError\u001b[39;00m(\u001b[39m\"\u001b[39m\u001b[39mValidation should be done on X, y or both.\u001b[39m\u001b[39m\"\u001b[39m)\n\u001b[0;32m    564\u001b[0m \u001b[39melif\u001b[39;00m \u001b[39mnot\u001b[39;00m no_val_X \u001b[39mand\u001b[39;00m no_val_y:\n\u001b[1;32m--> 565\u001b[0m     X \u001b[39m=\u001b[39m check_array(X, input_name\u001b[39m=\u001b[39;49m\u001b[39m\"\u001b[39;49m\u001b[39mX\u001b[39;49m\u001b[39m\"\u001b[39;49m, \u001b[39m*\u001b[39;49m\u001b[39m*\u001b[39;49mcheck_params)\n\u001b[0;32m    566\u001b[0m     out \u001b[39m=\u001b[39m X\n\u001b[0;32m    567\u001b[0m \u001b[39melif\u001b[39;00m no_val_X \u001b[39mand\u001b[39;00m \u001b[39mnot\u001b[39;00m no_val_y:\n",
      "File \u001b[1;32mc:\\Users\\Andres Gomez\\AppData\\Local\\Programs\\Python\\Python311\\Lib\\site-packages\\sklearn\\utils\\validation.py:921\u001b[0m, in \u001b[0;36mcheck_array\u001b[1;34m(array, accept_sparse, accept_large_sparse, dtype, order, copy, force_all_finite, ensure_2d, allow_nd, ensure_min_samples, ensure_min_features, estimator, input_name)\u001b[0m\n\u001b[0;32m    915\u001b[0m         \u001b[39mraise\u001b[39;00m \u001b[39mValueError\u001b[39;00m(\n\u001b[0;32m    916\u001b[0m             \u001b[39m\"\u001b[39m\u001b[39mFound array with dim \u001b[39m\u001b[39m%d\u001b[39;00m\u001b[39m. \u001b[39m\u001b[39m%s\u001b[39;00m\u001b[39m expected <= 2.\u001b[39m\u001b[39m\"\u001b[39m\n\u001b[0;32m    917\u001b[0m             \u001b[39m%\u001b[39m (array\u001b[39m.\u001b[39mndim, estimator_name)\n\u001b[0;32m    918\u001b[0m         )\n\u001b[0;32m    920\u001b[0m     \u001b[39mif\u001b[39;00m force_all_finite:\n\u001b[1;32m--> 921\u001b[0m         _assert_all_finite(\n\u001b[0;32m    922\u001b[0m             array,\n\u001b[0;32m    923\u001b[0m             input_name\u001b[39m=\u001b[39;49minput_name,\n\u001b[0;32m    924\u001b[0m             estimator_name\u001b[39m=\u001b[39;49mestimator_name,\n\u001b[0;32m    925\u001b[0m             allow_nan\u001b[39m=\u001b[39;49mforce_all_finite \u001b[39m==\u001b[39;49m \u001b[39m\"\u001b[39;49m\u001b[39mallow-nan\u001b[39;49m\u001b[39m\"\u001b[39;49m,\n\u001b[0;32m    926\u001b[0m         )\n\u001b[0;32m    928\u001b[0m \u001b[39mif\u001b[39;00m ensure_min_samples \u001b[39m>\u001b[39m \u001b[39m0\u001b[39m:\n\u001b[0;32m    929\u001b[0m     n_samples \u001b[39m=\u001b[39m _num_samples(array)\n",
      "File \u001b[1;32mc:\\Users\\Andres Gomez\\AppData\\Local\\Programs\\Python\\Python311\\Lib\\site-packages\\sklearn\\utils\\validation.py:161\u001b[0m, in \u001b[0;36m_assert_all_finite\u001b[1;34m(X, allow_nan, msg_dtype, estimator_name, input_name)\u001b[0m\n\u001b[0;32m    144\u001b[0m \u001b[39mif\u001b[39;00m estimator_name \u001b[39mand\u001b[39;00m input_name \u001b[39m==\u001b[39m \u001b[39m\"\u001b[39m\u001b[39mX\u001b[39m\u001b[39m\"\u001b[39m \u001b[39mand\u001b[39;00m has_nan_error:\n\u001b[0;32m    145\u001b[0m     \u001b[39m# Improve the error message on how to handle missing values in\u001b[39;00m\n\u001b[0;32m    146\u001b[0m     \u001b[39m# scikit-learn.\u001b[39;00m\n\u001b[0;32m    147\u001b[0m     msg_err \u001b[39m+\u001b[39m\u001b[39m=\u001b[39m (\n\u001b[0;32m    148\u001b[0m         \u001b[39mf\u001b[39m\u001b[39m\"\u001b[39m\u001b[39m\\n\u001b[39;00m\u001b[39m{\u001b[39;00mestimator_name\u001b[39m}\u001b[39;00m\u001b[39m does not accept missing values\u001b[39m\u001b[39m\"\u001b[39m\n\u001b[0;32m    149\u001b[0m         \u001b[39m\"\u001b[39m\u001b[39m encoded as NaN natively. For supervised learning, you might want\u001b[39m\u001b[39m\"\u001b[39m\n\u001b[1;32m   (...)\u001b[0m\n\u001b[0;32m    159\u001b[0m         \u001b[39m\"\u001b[39m\u001b[39m#estimators-that-handle-nan-values\u001b[39m\u001b[39m\"\u001b[39m\n\u001b[0;32m    160\u001b[0m     )\n\u001b[1;32m--> 161\u001b[0m \u001b[39mraise\u001b[39;00m \u001b[39mValueError\u001b[39;00m(msg_err)\n",
      "\u001b[1;31mValueError\u001b[0m: Input X contains NaN.\nKMeans does not accept missing values encoded as NaN natively. For supervised learning, you might want to consider sklearn.ensemble.HistGradientBoostingClassifier and Regressor which accept missing values encoded as NaNs natively. Alternatively, it is possible to preprocess the data, for instance by using an imputer transformer in a pipeline or drop samples with missing values. See https://scikit-learn.org/stable/modules/impute.html You can find a list of all estimators that handle NaN values at the following page: https://scikit-learn.org/stable/modules/impute.html#estimators-that-handle-nan-values"
     ]
    }
   ],
   "source": [
    "kmeans.fit(df[numeric_columns])"
   ]
  },
  {
   "attachments": {},
   "cell_type": "markdown",
   "metadata": {},
   "source": [
    "## Puzzle 2.3: Find the Rows with Missing Numeric Data Columns\n",
    "The **error message** above provides details on several solutions to dealing with **missing data**. To continue to use `KMeans`, our best option is to **drop rows with missing data**. Find the rows that have missing data in the `numeric_columns` and store those rows in the DataFrame `drops`:\n",
    "\n"
   ]
  },
  {
   "cell_type": "code",
   "execution_count": 104,
   "metadata": {},
   "outputs": [
    {
     "data": {
      "text/html": [
       "<div>\n",
       "<style scoped>\n",
       "    .dataframe tbody tr th:only-of-type {\n",
       "        vertical-align: middle;\n",
       "    }\n",
       "\n",
       "    .dataframe tbody tr th {\n",
       "        vertical-align: top;\n",
       "    }\n",
       "\n",
       "    .dataframe thead th {\n",
       "        text-align: right;\n",
       "    }\n",
       "</style>\n",
       "<table border=\"1\" class=\"dataframe\">\n",
       "  <thead>\n",
       "    <tr style=\"text-align: right;\">\n",
       "      <th></th>\n",
       "      <th>Country</th>\n",
       "      <th>Happiness Score</th>\n",
       "      <th>GDP Per Capita</th>\n",
       "      <th>Social Support</th>\n",
       "      <th>Healthy Life Expectancy</th>\n",
       "      <th>Freedom</th>\n",
       "      <th>Generosity</th>\n",
       "      <th>Corruption</th>\n",
       "      <th>Dystopia</th>\n",
       "    </tr>\n",
       "  </thead>\n",
       "  <tbody>\n",
       "    <tr>\n",
       "      <th>98</th>\n",
       "      <td>State of Palestine</td>\n",
       "      <td>4.908</td>\n",
       "      <td>8.716</td>\n",
       "      <td>0.859</td>\n",
       "      <td>NaN</td>\n",
       "      <td>0.694</td>\n",
       "      <td>-0.132</td>\n",
       "      <td>0.836</td>\n",
       "      <td>NaN</td>\n",
       "    </tr>\n",
       "  </tbody>\n",
       "</table>\n",
       "</div>"
      ],
      "text/plain": [
       "               Country  Happiness Score  GDP Per Capita  Social Support  \\\n",
       "98  State of Palestine            4.908           8.716           0.859   \n",
       "\n",
       "    Healthy Life Expectancy  Freedom  Generosity  Corruption  Dystopia  \n",
       "98                      NaN    0.694      -0.132       0.836       NaN  "
      ]
     },
     "execution_count": 104,
     "metadata": {},
     "output_type": "execute_result"
    }
   ],
   "source": [
    "good = df[numeric_columns].dropna()\n",
    "drops = df[ ~df.index.isin(good.index)]\n",
    "drops"
   ]
  },
  {
   "attachments": {},
   "cell_type": "markdown",
   "metadata": {},
   "source": [
    "### 🔬 Test Case Checkpoint 🔬"
   ]
  },
  {
   "cell_type": "code",
   "execution_count": 105,
   "metadata": {},
   "outputs": [
    {
     "name": "stdout",
     "output_type": "stream",
     "text": [
      "🎉 All tests passed! 🎉\n"
     ]
    }
   ],
   "source": [
    "## == TEST CASES for Puzzle 2.3 ==\n",
    "# - This read-only cell contains test cases for your previous cell.\n",
    "# - If this cell runs without any error our output, you PASSED all test cases!\n",
    "# - If this cell results in any errors, check you previous cell, make changes, and RE-RUN your code and then this cell.\n",
    "from math import isnan \n",
    "assert(len(drops) == 1), \"There should be one row with missing data in our dataset.\"\n",
    "assert(len(drops.index.isin(df.index)) == 1), \"This row should be a row that is in `df`.\"\n",
    "assert(isnan(drops.iloc[0]['Healthy Life Expectancy']) and isnan(drops.iloc[0]['Dystopia'])), \"The one row should be missing values for the `Healthy Life Expectancy` and `Dystopia` columns.\"\n",
    "\n",
    "## == SUCCESS MESSAGE ==\n",
    "# You will only see this message (with the emoji showing) if you passed all test cases:\n",
    "tada = \"\\N{PARTY POPPER}\"\n",
    "print(f\"{tada} All tests passed! {tada}\")"
   ]
  },
  {
   "attachments": {},
   "cell_type": "markdown",
   "metadata": {},
   "source": [
    "## Part 2.4: Drop the Rows with Missing Data\n",
    "Provided below is a snippet of code that creates a new DataFrame, `df2`, that contains only a **copy of the rows** that can be used for clustering:"
   ]
  },
  {
   "cell_type": "code",
   "execution_count": 106,
   "metadata": {},
   "outputs": [
    {
     "data": {
      "text/html": [
       "<div>\n",
       "<style scoped>\n",
       "    .dataframe tbody tr th:only-of-type {\n",
       "        vertical-align: middle;\n",
       "    }\n",
       "\n",
       "    .dataframe tbody tr th {\n",
       "        vertical-align: top;\n",
       "    }\n",
       "\n",
       "    .dataframe thead th {\n",
       "        text-align: right;\n",
       "    }\n",
       "</style>\n",
       "<table border=\"1\" class=\"dataframe\">\n",
       "  <thead>\n",
       "    <tr style=\"text-align: right;\">\n",
       "      <th></th>\n",
       "      <th>Country</th>\n",
       "      <th>Happiness Score</th>\n",
       "      <th>GDP Per Capita</th>\n",
       "      <th>Social Support</th>\n",
       "      <th>Healthy Life Expectancy</th>\n",
       "      <th>Freedom</th>\n",
       "      <th>Generosity</th>\n",
       "      <th>Corruption</th>\n",
       "      <th>Dystopia</th>\n",
       "    </tr>\n",
       "  </thead>\n",
       "  <tbody>\n",
       "    <tr>\n",
       "      <th>0</th>\n",
       "      <td>Finland</td>\n",
       "      <td>7.804</td>\n",
       "      <td>10.792</td>\n",
       "      <td>0.969</td>\n",
       "      <td>71.150</td>\n",
       "      <td>0.961</td>\n",
       "      <td>-0.019</td>\n",
       "      <td>0.182</td>\n",
       "      <td>2.363</td>\n",
       "    </tr>\n",
       "    <tr>\n",
       "      <th>1</th>\n",
       "      <td>Denmark</td>\n",
       "      <td>7.586</td>\n",
       "      <td>10.962</td>\n",
       "      <td>0.954</td>\n",
       "      <td>71.250</td>\n",
       "      <td>0.934</td>\n",
       "      <td>0.134</td>\n",
       "      <td>0.196</td>\n",
       "      <td>2.084</td>\n",
       "    </tr>\n",
       "    <tr>\n",
       "      <th>2</th>\n",
       "      <td>Iceland</td>\n",
       "      <td>7.530</td>\n",
       "      <td>10.896</td>\n",
       "      <td>0.983</td>\n",
       "      <td>72.050</td>\n",
       "      <td>0.936</td>\n",
       "      <td>0.211</td>\n",
       "      <td>0.668</td>\n",
       "      <td>2.250</td>\n",
       "    </tr>\n",
       "    <tr>\n",
       "      <th>3</th>\n",
       "      <td>Israel</td>\n",
       "      <td>7.473</td>\n",
       "      <td>10.639</td>\n",
       "      <td>0.943</td>\n",
       "      <td>72.697</td>\n",
       "      <td>0.809</td>\n",
       "      <td>-0.023</td>\n",
       "      <td>0.708</td>\n",
       "      <td>2.691</td>\n",
       "    </tr>\n",
       "    <tr>\n",
       "      <th>4</th>\n",
       "      <td>Netherlands</td>\n",
       "      <td>7.403</td>\n",
       "      <td>10.942</td>\n",
       "      <td>0.930</td>\n",
       "      <td>71.550</td>\n",
       "      <td>0.887</td>\n",
       "      <td>0.213</td>\n",
       "      <td>0.379</td>\n",
       "      <td>2.110</td>\n",
       "    </tr>\n",
       "    <tr>\n",
       "      <th>...</th>\n",
       "      <td>...</td>\n",
       "      <td>...</td>\n",
       "      <td>...</td>\n",
       "      <td>...</td>\n",
       "      <td>...</td>\n",
       "      <td>...</td>\n",
       "      <td>...</td>\n",
       "      <td>...</td>\n",
       "      <td>...</td>\n",
       "    </tr>\n",
       "    <tr>\n",
       "      <th>132</th>\n",
       "      <td>Congo (Kinshasa)</td>\n",
       "      <td>3.207</td>\n",
       "      <td>7.007</td>\n",
       "      <td>0.652</td>\n",
       "      <td>55.375</td>\n",
       "      <td>0.664</td>\n",
       "      <td>0.086</td>\n",
       "      <td>0.834</td>\n",
       "      <td>1.162</td>\n",
       "    </tr>\n",
       "    <tr>\n",
       "      <th>133</th>\n",
       "      <td>Zimbabwe</td>\n",
       "      <td>3.204</td>\n",
       "      <td>7.641</td>\n",
       "      <td>0.690</td>\n",
       "      <td>54.050</td>\n",
       "      <td>0.654</td>\n",
       "      <td>-0.046</td>\n",
       "      <td>0.766</td>\n",
       "      <td>0.905</td>\n",
       "    </tr>\n",
       "    <tr>\n",
       "      <th>134</th>\n",
       "      <td>Sierra Leone</td>\n",
       "      <td>3.138</td>\n",
       "      <td>7.394</td>\n",
       "      <td>0.555</td>\n",
       "      <td>54.900</td>\n",
       "      <td>0.660</td>\n",
       "      <td>0.105</td>\n",
       "      <td>0.858</td>\n",
       "      <td>1.221</td>\n",
       "    </tr>\n",
       "    <tr>\n",
       "      <th>135</th>\n",
       "      <td>Lebanon</td>\n",
       "      <td>2.392</td>\n",
       "      <td>9.478</td>\n",
       "      <td>0.530</td>\n",
       "      <td>66.149</td>\n",
       "      <td>0.474</td>\n",
       "      <td>-0.141</td>\n",
       "      <td>0.891</td>\n",
       "      <td>-0.110</td>\n",
       "    </tr>\n",
       "    <tr>\n",
       "      <th>136</th>\n",
       "      <td>Afghanistan</td>\n",
       "      <td>1.859</td>\n",
       "      <td>7.324</td>\n",
       "      <td>0.341</td>\n",
       "      <td>54.712</td>\n",
       "      <td>0.382</td>\n",
       "      <td>-0.081</td>\n",
       "      <td>0.847</td>\n",
       "      <td>0.976</td>\n",
       "    </tr>\n",
       "  </tbody>\n",
       "</table>\n",
       "<p>136 rows × 9 columns</p>\n",
       "</div>"
      ],
      "text/plain": [
       "              Country  Happiness Score  GDP Per Capita  Social Support  \\\n",
       "0             Finland            7.804          10.792           0.969   \n",
       "1             Denmark            7.586          10.962           0.954   \n",
       "2             Iceland            7.530          10.896           0.983   \n",
       "3              Israel            7.473          10.639           0.943   \n",
       "4         Netherlands            7.403          10.942           0.930   \n",
       "..                ...              ...             ...             ...   \n",
       "132  Congo (Kinshasa)            3.207           7.007           0.652   \n",
       "133          Zimbabwe            3.204           7.641           0.690   \n",
       "134      Sierra Leone            3.138           7.394           0.555   \n",
       "135           Lebanon            2.392           9.478           0.530   \n",
       "136       Afghanistan            1.859           7.324           0.341   \n",
       "\n",
       "     Healthy Life Expectancy  Freedom  Generosity  Corruption  Dystopia  \n",
       "0                     71.150    0.961      -0.019       0.182     2.363  \n",
       "1                     71.250    0.934       0.134       0.196     2.084  \n",
       "2                     72.050    0.936       0.211       0.668     2.250  \n",
       "3                     72.697    0.809      -0.023       0.708     2.691  \n",
       "4                     71.550    0.887       0.213       0.379     2.110  \n",
       "..                       ...      ...         ...         ...       ...  \n",
       "132                   55.375    0.664       0.086       0.834     1.162  \n",
       "133                   54.050    0.654      -0.046       0.766     0.905  \n",
       "134                   54.900    0.660       0.105       0.858     1.221  \n",
       "135                   66.149    0.474      -0.141       0.891    -0.110  \n",
       "136                   54.712    0.382      -0.081       0.847     0.976  \n",
       "\n",
       "[136 rows x 9 columns]"
      ]
     },
     "execution_count": 106,
     "metadata": {},
     "output_type": "execute_result"
    }
   ],
   "source": [
    "df2 = df[ ~df.index.isin(drops.index) ].copy()\n",
    "df2"
   ]
  },
  {
   "attachments": {},
   "cell_type": "markdown",
   "metadata": {},
   "source": [
    "## Part 2.5: Normalizing the Numeric Data\n",
    "\n",
    "In lecture, you learned that means are **VERY sensitive** to **outliers**. Since our data comes from **different ranges**, we must **normalize the numeric data**. To **normalize the data**, we can divide **each numeric column** by the **maximum value** of the column. This is done in the provided code below.\n",
    "\n",
    "Notice that, in the result, all column values are now **scaled to be between 0 and 1**. Since all values are now in the **same range**, we no longer have any column with values in a different range.\n",
    "\n",
    "*Do not modify the cell below - just **run it!***"
   ]
  },
  {
   "cell_type": "code",
   "execution_count": 107,
   "metadata": {},
   "outputs": [
    {
     "data": {
      "text/html": [
       "<div>\n",
       "<style scoped>\n",
       "    .dataframe tbody tr th:only-of-type {\n",
       "        vertical-align: middle;\n",
       "    }\n",
       "\n",
       "    .dataframe tbody tr th {\n",
       "        vertical-align: top;\n",
       "    }\n",
       "\n",
       "    .dataframe thead th {\n",
       "        text-align: right;\n",
       "    }\n",
       "</style>\n",
       "<table border=\"1\" class=\"dataframe\">\n",
       "  <thead>\n",
       "    <tr style=\"text-align: right;\">\n",
       "      <th></th>\n",
       "      <th>Happiness Score</th>\n",
       "      <th>GDP Per Capita</th>\n",
       "      <th>Social Support</th>\n",
       "      <th>Healthy Life Expectancy</th>\n",
       "      <th>Freedom</th>\n",
       "      <th>Generosity</th>\n",
       "      <th>Corruption</th>\n",
       "      <th>Dystopia</th>\n",
       "    </tr>\n",
       "  </thead>\n",
       "  <tbody>\n",
       "    <tr>\n",
       "      <th>0</th>\n",
       "      <td>1.000000</td>\n",
       "      <td>0.925557</td>\n",
       "      <td>0.985758</td>\n",
       "      <td>0.920678</td>\n",
       "      <td>1.000000</td>\n",
       "      <td>-0.035782</td>\n",
       "      <td>0.195910</td>\n",
       "      <td>0.799662</td>\n",
       "    </tr>\n",
       "    <tr>\n",
       "      <th>1</th>\n",
       "      <td>0.972066</td>\n",
       "      <td>0.940137</td>\n",
       "      <td>0.970498</td>\n",
       "      <td>0.921972</td>\n",
       "      <td>0.971904</td>\n",
       "      <td>0.252354</td>\n",
       "      <td>0.210980</td>\n",
       "      <td>0.705245</td>\n",
       "    </tr>\n",
       "    <tr>\n",
       "      <th>2</th>\n",
       "      <td>0.964890</td>\n",
       "      <td>0.934477</td>\n",
       "      <td>1.000000</td>\n",
       "      <td>0.932324</td>\n",
       "      <td>0.973985</td>\n",
       "      <td>0.397363</td>\n",
       "      <td>0.719053</td>\n",
       "      <td>0.761421</td>\n",
       "    </tr>\n",
       "    <tr>\n",
       "      <th>3</th>\n",
       "      <td>0.957586</td>\n",
       "      <td>0.912436</td>\n",
       "      <td>0.959308</td>\n",
       "      <td>0.940696</td>\n",
       "      <td>0.841831</td>\n",
       "      <td>-0.043315</td>\n",
       "      <td>0.762110</td>\n",
       "      <td>0.910660</td>\n",
       "    </tr>\n",
       "    <tr>\n",
       "      <th>4</th>\n",
       "      <td>0.948616</td>\n",
       "      <td>0.938422</td>\n",
       "      <td>0.946083</td>\n",
       "      <td>0.925854</td>\n",
       "      <td>0.922997</td>\n",
       "      <td>0.401130</td>\n",
       "      <td>0.407966</td>\n",
       "      <td>0.714044</td>\n",
       "    </tr>\n",
       "    <tr>\n",
       "      <th>...</th>\n",
       "      <td>...</td>\n",
       "      <td>...</td>\n",
       "      <td>...</td>\n",
       "      <td>...</td>\n",
       "      <td>...</td>\n",
       "      <td>...</td>\n",
       "      <td>...</td>\n",
       "      <td>...</td>\n",
       "    </tr>\n",
       "    <tr>\n",
       "      <th>132</th>\n",
       "      <td>0.410943</td>\n",
       "      <td>0.600943</td>\n",
       "      <td>0.663276</td>\n",
       "      <td>0.716550</td>\n",
       "      <td>0.690947</td>\n",
       "      <td>0.161959</td>\n",
       "      <td>0.897740</td>\n",
       "      <td>0.393232</td>\n",
       "    </tr>\n",
       "    <tr>\n",
       "      <th>133</th>\n",
       "      <td>0.410559</td>\n",
       "      <td>0.655317</td>\n",
       "      <td>0.701933</td>\n",
       "      <td>0.699405</td>\n",
       "      <td>0.680541</td>\n",
       "      <td>-0.086629</td>\n",
       "      <td>0.824543</td>\n",
       "      <td>0.306261</td>\n",
       "    </tr>\n",
       "    <tr>\n",
       "      <th>134</th>\n",
       "      <td>0.402101</td>\n",
       "      <td>0.634134</td>\n",
       "      <td>0.564598</td>\n",
       "      <td>0.710404</td>\n",
       "      <td>0.686785</td>\n",
       "      <td>0.197740</td>\n",
       "      <td>0.923574</td>\n",
       "      <td>0.413198</td>\n",
       "    </tr>\n",
       "    <tr>\n",
       "      <th>135</th>\n",
       "      <td>0.306509</td>\n",
       "      <td>0.812864</td>\n",
       "      <td>0.539166</td>\n",
       "      <td>0.855965</td>\n",
       "      <td>0.493236</td>\n",
       "      <td>-0.265537</td>\n",
       "      <td>0.959096</td>\n",
       "      <td>-0.037225</td>\n",
       "    </tr>\n",
       "    <tr>\n",
       "      <th>136</th>\n",
       "      <td>0.238211</td>\n",
       "      <td>0.628130</td>\n",
       "      <td>0.346897</td>\n",
       "      <td>0.707971</td>\n",
       "      <td>0.397503</td>\n",
       "      <td>-0.152542</td>\n",
       "      <td>0.911733</td>\n",
       "      <td>0.330288</td>\n",
       "    </tr>\n",
       "  </tbody>\n",
       "</table>\n",
       "<p>136 rows × 8 columns</p>\n",
       "</div>"
      ],
      "text/plain": [
       "     Happiness Score  GDP Per Capita  Social Support  Healthy Life Expectancy  \\\n",
       "0           1.000000        0.925557        0.985758                 0.920678   \n",
       "1           0.972066        0.940137        0.970498                 0.921972   \n",
       "2           0.964890        0.934477        1.000000                 0.932324   \n",
       "3           0.957586        0.912436        0.959308                 0.940696   \n",
       "4           0.948616        0.938422        0.946083                 0.925854   \n",
       "..               ...             ...             ...                      ...   \n",
       "132         0.410943        0.600943        0.663276                 0.716550   \n",
       "133         0.410559        0.655317        0.701933                 0.699405   \n",
       "134         0.402101        0.634134        0.564598                 0.710404   \n",
       "135         0.306509        0.812864        0.539166                 0.855965   \n",
       "136         0.238211        0.628130        0.346897                 0.707971   \n",
       "\n",
       "      Freedom  Generosity  Corruption  Dystopia  \n",
       "0    1.000000   -0.035782    0.195910  0.799662  \n",
       "1    0.971904    0.252354    0.210980  0.705245  \n",
       "2    0.973985    0.397363    0.719053  0.761421  \n",
       "3    0.841831   -0.043315    0.762110  0.910660  \n",
       "4    0.922997    0.401130    0.407966  0.714044  \n",
       "..        ...         ...         ...       ...  \n",
       "132  0.690947    0.161959    0.897740  0.393232  \n",
       "133  0.680541   -0.086629    0.824543  0.306261  \n",
       "134  0.686785    0.197740    0.923574  0.413198  \n",
       "135  0.493236   -0.265537    0.959096 -0.037225  \n",
       "136  0.397503   -0.152542    0.911733  0.330288  \n",
       "\n",
       "[136 rows x 8 columns]"
      ]
     },
     "execution_count": 107,
     "metadata": {},
     "output_type": "execute_result"
    }
   ],
   "source": [
    "for column in numeric_columns:\n",
    "    df2[column] = df2[column] / df2[column].abs().max()\n",
    "df2[numeric_columns]"
   ]
  },
  {
   "attachments": {},
   "cell_type": "markdown",
   "metadata": {},
   "source": [
    "## Puzzle 2.6: Training with `numeric_columns` from `df2`\n",
    "\n",
    "Now that we have handled missing data and normalized the numeric data, we can **train our model**! Using the `numeric_columns` and `df2`, `fit` your `kmeans` model:"
   ]
  },
  {
   "cell_type": "code",
   "execution_count": 108,
   "metadata": {},
   "outputs": [
    {
     "name": "stderr",
     "output_type": "stream",
     "text": [
      "c:\\Users\\Andres Gomez\\AppData\\Local\\Programs\\Python\\Python311\\Lib\\site-packages\\sklearn\\cluster\\_kmeans.py:870: FutureWarning: The default value of `n_init` will change from 10 to 'auto' in 1.4. Set the value of `n_init` explicitly to suppress the warning\n",
      "  warnings.warn(\n"
     ]
    },
    {
     "data": {
      "text/html": [
       "<style>#sk-container-id-3 {color: black;background-color: white;}#sk-container-id-3 pre{padding: 0;}#sk-container-id-3 div.sk-toggleable {background-color: white;}#sk-container-id-3 label.sk-toggleable__label {cursor: pointer;display: block;width: 100%;margin-bottom: 0;padding: 0.3em;box-sizing: border-box;text-align: center;}#sk-container-id-3 label.sk-toggleable__label-arrow:before {content: \"▸\";float: left;margin-right: 0.25em;color: #696969;}#sk-container-id-3 label.sk-toggleable__label-arrow:hover:before {color: black;}#sk-container-id-3 div.sk-estimator:hover label.sk-toggleable__label-arrow:before {color: black;}#sk-container-id-3 div.sk-toggleable__content {max-height: 0;max-width: 0;overflow: hidden;text-align: left;background-color: #f0f8ff;}#sk-container-id-3 div.sk-toggleable__content pre {margin: 0.2em;color: black;border-radius: 0.25em;background-color: #f0f8ff;}#sk-container-id-3 input.sk-toggleable__control:checked~div.sk-toggleable__content {max-height: 200px;max-width: 100%;overflow: auto;}#sk-container-id-3 input.sk-toggleable__control:checked~label.sk-toggleable__label-arrow:before {content: \"▾\";}#sk-container-id-3 div.sk-estimator input.sk-toggleable__control:checked~label.sk-toggleable__label {background-color: #d4ebff;}#sk-container-id-3 div.sk-label input.sk-toggleable__control:checked~label.sk-toggleable__label {background-color: #d4ebff;}#sk-container-id-3 input.sk-hidden--visually {border: 0;clip: rect(1px 1px 1px 1px);clip: rect(1px, 1px, 1px, 1px);height: 1px;margin: -1px;overflow: hidden;padding: 0;position: absolute;width: 1px;}#sk-container-id-3 div.sk-estimator {font-family: monospace;background-color: #f0f8ff;border: 1px dotted black;border-radius: 0.25em;box-sizing: border-box;margin-bottom: 0.5em;}#sk-container-id-3 div.sk-estimator:hover {background-color: #d4ebff;}#sk-container-id-3 div.sk-parallel-item::after {content: \"\";width: 100%;border-bottom: 1px solid gray;flex-grow: 1;}#sk-container-id-3 div.sk-label:hover label.sk-toggleable__label {background-color: #d4ebff;}#sk-container-id-3 div.sk-serial::before {content: \"\";position: absolute;border-left: 1px solid gray;box-sizing: border-box;top: 0;bottom: 0;left: 50%;z-index: 0;}#sk-container-id-3 div.sk-serial {display: flex;flex-direction: column;align-items: center;background-color: white;padding-right: 0.2em;padding-left: 0.2em;position: relative;}#sk-container-id-3 div.sk-item {position: relative;z-index: 1;}#sk-container-id-3 div.sk-parallel {display: flex;align-items: stretch;justify-content: center;background-color: white;position: relative;}#sk-container-id-3 div.sk-item::before, #sk-container-id-3 div.sk-parallel-item::before {content: \"\";position: absolute;border-left: 1px solid gray;box-sizing: border-box;top: 0;bottom: 0;left: 50%;z-index: -1;}#sk-container-id-3 div.sk-parallel-item {display: flex;flex-direction: column;z-index: 1;position: relative;background-color: white;}#sk-container-id-3 div.sk-parallel-item:first-child::after {align-self: flex-end;width: 50%;}#sk-container-id-3 div.sk-parallel-item:last-child::after {align-self: flex-start;width: 50%;}#sk-container-id-3 div.sk-parallel-item:only-child::after {width: 0;}#sk-container-id-3 div.sk-dashed-wrapped {border: 1px dashed gray;margin: 0 0.4em 0.5em 0.4em;box-sizing: border-box;padding-bottom: 0.4em;background-color: white;}#sk-container-id-3 div.sk-label label {font-family: monospace;font-weight: bold;display: inline-block;line-height: 1.2em;}#sk-container-id-3 div.sk-label-container {text-align: center;}#sk-container-id-3 div.sk-container {/* jupyter's `normalize.less` sets `[hidden] { display: none; }` but bootstrap.min.css set `[hidden] { display: none !important; }` so we also need the `!important` here to be able to override the default hidden behavior on the sphinx rendered scikit-learn.org. See: https://github.com/scikit-learn/scikit-learn/issues/21755 */display: inline-block !important;position: relative;}#sk-container-id-3 div.sk-text-repr-fallback {display: none;}</style><div id=\"sk-container-id-3\" class=\"sk-top-container\"><div class=\"sk-text-repr-fallback\"><pre>KMeans(n_clusters=2)</pre><b>In a Jupyter environment, please rerun this cell to show the HTML representation or trust the notebook. <br />On GitHub, the HTML representation is unable to render, please try loading this page with nbviewer.org.</b></div><div class=\"sk-container\" hidden><div class=\"sk-item\"><div class=\"sk-estimator sk-toggleable\"><input class=\"sk-toggleable__control sk-hidden--visually\" id=\"sk-estimator-id-3\" type=\"checkbox\" checked><label for=\"sk-estimator-id-3\" class=\"sk-toggleable__label sk-toggleable__label-arrow\">KMeans</label><div class=\"sk-toggleable__content\"><pre>KMeans(n_clusters=2)</pre></div></div></div></div></div>"
      ],
      "text/plain": [
       "KMeans(n_clusters=2)"
      ]
     },
     "execution_count": 108,
     "metadata": {},
     "output_type": "execute_result"
    }
   ],
   "source": [
    "kmeans.fit( df2[numeric_columns])"
   ]
  },
  {
   "attachments": {},
   "cell_type": "markdown",
   "metadata": {},
   "source": [
    "### 🔬 Test Case Checkpoint 🔬"
   ]
  },
  {
   "cell_type": "code",
   "execution_count": 109,
   "metadata": {},
   "outputs": [
    {
     "name": "stdout",
     "output_type": "stream",
     "text": [
      "🎉 All tests passed! 🎉\n"
     ]
    }
   ],
   "source": [
    "## == TEST CASES for Puzzle 2.3 ==\n",
    "# - This read-only cell contains test cases for your previous cell.\n",
    "# - If this cell runs without any error our output, you PASSED all test cases!\n",
    "# - If this cell results in any errors, check you previous cell, make changes, and RE-RUN your code and then this cell.\n",
    "assert(isinstance(kmeans, KMeans)), \"The `kmeans` model should be saved as `kmeans`.\"\n",
    "assert(kmeans.n_clusters == 2), \"The `kmeans` model should have two clusters.\"\n",
    "assert(kmeans.cluster_centers_ is not None), \"The `kmeans` model should be trained with `df2`'s `numeric_columns`.\"\n",
    "\n",
    "## == SUCCESS MESSAGE ==\n",
    "# You will only see this message (with the emoji showing) if you passed all test cases:\n",
    "tada = \"\\N{PARTY POPPER}\"\n",
    "print(f\"{tada} All tests passed! {tada}\")"
   ]
  },
  {
   "attachments": {},
   "cell_type": "markdown",
   "metadata": {},
   "source": [
    "## Puzzle 2.7: Centroids\n",
    "\n",
    "In lecture, you learned that `kmeans.cluster_centers_` will display the location of the **final centroids**.\n",
    "\n",
    "The **order they're displayed** will be the **same order** as the columns are listed in `numeric_columns`. \n",
    "\n",
    "Explore the **centroids** and **numeric columns** by **running the cells below**:\n"
   ]
  },
  {
   "cell_type": "code",
   "execution_count": 110,
   "metadata": {},
   "outputs": [
    {
     "data": {
      "text/plain": [
       "array([[ 0.67572986,  0.79079206,  0.78464098,  0.82859906,  0.79556885,\n",
       "        -0.07625157,  0.83814361,  0.60566836],\n",
       "       [ 0.79381727,  0.85918739,  0.87917091,  0.86966906,  0.87885016,\n",
       "         0.33389831,  0.64033907,  0.59196277]])"
      ]
     },
     "execution_count": 110,
     "metadata": {},
     "output_type": "execute_result"
    }
   ],
   "source": [
    "kmeans.cluster_centers_"
   ]
  },
  {
   "cell_type": "code",
   "execution_count": 111,
   "metadata": {},
   "outputs": [
    {
     "data": {
      "text/plain": [
       "['Happiness Score',\n",
       " 'GDP Per Capita',\n",
       " 'Social Support',\n",
       " 'Healthy Life Expectancy',\n",
       " 'Freedom',\n",
       " 'Generosity',\n",
       " 'Corruption',\n",
       " 'Dystopia']"
      ]
     },
     "execution_count": 111,
     "metadata": {},
     "output_type": "execute_result"
    }
   ],
   "source": [
    "numeric_columns"
   ]
  },
  {
   "attachments": {},
   "cell_type": "markdown",
   "metadata": {},
   "source": [
    "### Analysis: Centroids\n",
    "\n",
    "**Q6: In the following cell, answer both of these questions:**\n",
    "- Looking at the centroids above, which cluster would you expect to have the **\"happier\"** countries? How do you know? \n",
    "- Which **features** are arguably **most important** to defining the **centroids**? (**Hint:** Look for the largest *differences* between values from centroid to centroid)\n",
    "\n"
   ]
  },
  {
   "attachments": {},
   "cell_type": "markdown",
   "metadata": {},
   "source": [
    "*(✏️ I would expect the healthy life expectancy to have the happier countries since both centroids are high and have a value of > 0.8\n",
    "    It looks like corruption would be the most important as the difference between the centroid locations are big.  ✏️)*"
   ]
  },
  {
   "attachments": {},
   "cell_type": "markdown",
   "metadata": {},
   "source": [
    "## Puzzle 2.8: Prediction\n",
    "\n",
    "Now, we can use our model to **assign each country** in our dataset to one of the two **clusters**!\n",
    "\n",
    "Using your `kmeans` model and the `numeric_columns`, `predict` the centroid for each row and store that prediction in a new column in `df2` called `cluster`:\n",
    "\n"
   ]
  },
  {
   "cell_type": "code",
   "execution_count": 112,
   "metadata": {},
   "outputs": [
    {
     "data": {
      "text/html": [
       "<div>\n",
       "<style scoped>\n",
       "    .dataframe tbody tr th:only-of-type {\n",
       "        vertical-align: middle;\n",
       "    }\n",
       "\n",
       "    .dataframe tbody tr th {\n",
       "        vertical-align: top;\n",
       "    }\n",
       "\n",
       "    .dataframe thead th {\n",
       "        text-align: right;\n",
       "    }\n",
       "</style>\n",
       "<table border=\"1\" class=\"dataframe\">\n",
       "  <thead>\n",
       "    <tr style=\"text-align: right;\">\n",
       "      <th></th>\n",
       "      <th>Country</th>\n",
       "      <th>Happiness Score</th>\n",
       "      <th>GDP Per Capita</th>\n",
       "      <th>Social Support</th>\n",
       "      <th>Healthy Life Expectancy</th>\n",
       "      <th>Freedom</th>\n",
       "      <th>Generosity</th>\n",
       "      <th>Corruption</th>\n",
       "      <th>Dystopia</th>\n",
       "      <th>cluster</th>\n",
       "    </tr>\n",
       "  </thead>\n",
       "  <tbody>\n",
       "    <tr>\n",
       "      <th>0</th>\n",
       "      <td>Finland</td>\n",
       "      <td>1.000000</td>\n",
       "      <td>0.925557</td>\n",
       "      <td>0.985758</td>\n",
       "      <td>0.920678</td>\n",
       "      <td>1.000000</td>\n",
       "      <td>-0.035782</td>\n",
       "      <td>0.195910</td>\n",
       "      <td>0.799662</td>\n",
       "      <td>1</td>\n",
       "    </tr>\n",
       "    <tr>\n",
       "      <th>1</th>\n",
       "      <td>Denmark</td>\n",
       "      <td>0.972066</td>\n",
       "      <td>0.940137</td>\n",
       "      <td>0.970498</td>\n",
       "      <td>0.921972</td>\n",
       "      <td>0.971904</td>\n",
       "      <td>0.252354</td>\n",
       "      <td>0.210980</td>\n",
       "      <td>0.705245</td>\n",
       "      <td>1</td>\n",
       "    </tr>\n",
       "    <tr>\n",
       "      <th>2</th>\n",
       "      <td>Iceland</td>\n",
       "      <td>0.964890</td>\n",
       "      <td>0.934477</td>\n",
       "      <td>1.000000</td>\n",
       "      <td>0.932324</td>\n",
       "      <td>0.973985</td>\n",
       "      <td>0.397363</td>\n",
       "      <td>0.719053</td>\n",
       "      <td>0.761421</td>\n",
       "      <td>1</td>\n",
       "    </tr>\n",
       "    <tr>\n",
       "      <th>3</th>\n",
       "      <td>Israel</td>\n",
       "      <td>0.957586</td>\n",
       "      <td>0.912436</td>\n",
       "      <td>0.959308</td>\n",
       "      <td>0.940696</td>\n",
       "      <td>0.841831</td>\n",
       "      <td>-0.043315</td>\n",
       "      <td>0.762110</td>\n",
       "      <td>0.910660</td>\n",
       "      <td>0</td>\n",
       "    </tr>\n",
       "    <tr>\n",
       "      <th>4</th>\n",
       "      <td>Netherlands</td>\n",
       "      <td>0.948616</td>\n",
       "      <td>0.938422</td>\n",
       "      <td>0.946083</td>\n",
       "      <td>0.925854</td>\n",
       "      <td>0.922997</td>\n",
       "      <td>0.401130</td>\n",
       "      <td>0.407966</td>\n",
       "      <td>0.714044</td>\n",
       "      <td>1</td>\n",
       "    </tr>\n",
       "    <tr>\n",
       "      <th>...</th>\n",
       "      <td>...</td>\n",
       "      <td>...</td>\n",
       "      <td>...</td>\n",
       "      <td>...</td>\n",
       "      <td>...</td>\n",
       "      <td>...</td>\n",
       "      <td>...</td>\n",
       "      <td>...</td>\n",
       "      <td>...</td>\n",
       "      <td>...</td>\n",
       "    </tr>\n",
       "    <tr>\n",
       "      <th>132</th>\n",
       "      <td>Congo (Kinshasa)</td>\n",
       "      <td>0.410943</td>\n",
       "      <td>0.600943</td>\n",
       "      <td>0.663276</td>\n",
       "      <td>0.716550</td>\n",
       "      <td>0.690947</td>\n",
       "      <td>0.161959</td>\n",
       "      <td>0.897740</td>\n",
       "      <td>0.393232</td>\n",
       "      <td>0</td>\n",
       "    </tr>\n",
       "    <tr>\n",
       "      <th>133</th>\n",
       "      <td>Zimbabwe</td>\n",
       "      <td>0.410559</td>\n",
       "      <td>0.655317</td>\n",
       "      <td>0.701933</td>\n",
       "      <td>0.699405</td>\n",
       "      <td>0.680541</td>\n",
       "      <td>-0.086629</td>\n",
       "      <td>0.824543</td>\n",
       "      <td>0.306261</td>\n",
       "      <td>0</td>\n",
       "    </tr>\n",
       "    <tr>\n",
       "      <th>134</th>\n",
       "      <td>Sierra Leone</td>\n",
       "      <td>0.402101</td>\n",
       "      <td>0.634134</td>\n",
       "      <td>0.564598</td>\n",
       "      <td>0.710404</td>\n",
       "      <td>0.686785</td>\n",
       "      <td>0.197740</td>\n",
       "      <td>0.923574</td>\n",
       "      <td>0.413198</td>\n",
       "      <td>0</td>\n",
       "    </tr>\n",
       "    <tr>\n",
       "      <th>135</th>\n",
       "      <td>Lebanon</td>\n",
       "      <td>0.306509</td>\n",
       "      <td>0.812864</td>\n",
       "      <td>0.539166</td>\n",
       "      <td>0.855965</td>\n",
       "      <td>0.493236</td>\n",
       "      <td>-0.265537</td>\n",
       "      <td>0.959096</td>\n",
       "      <td>-0.037225</td>\n",
       "      <td>0</td>\n",
       "    </tr>\n",
       "    <tr>\n",
       "      <th>136</th>\n",
       "      <td>Afghanistan</td>\n",
       "      <td>0.238211</td>\n",
       "      <td>0.628130</td>\n",
       "      <td>0.346897</td>\n",
       "      <td>0.707971</td>\n",
       "      <td>0.397503</td>\n",
       "      <td>-0.152542</td>\n",
       "      <td>0.911733</td>\n",
       "      <td>0.330288</td>\n",
       "      <td>0</td>\n",
       "    </tr>\n",
       "  </tbody>\n",
       "</table>\n",
       "<p>136 rows × 10 columns</p>\n",
       "</div>"
      ],
      "text/plain": [
       "              Country  Happiness Score  GDP Per Capita  Social Support  \\\n",
       "0             Finland         1.000000        0.925557        0.985758   \n",
       "1             Denmark         0.972066        0.940137        0.970498   \n",
       "2             Iceland         0.964890        0.934477        1.000000   \n",
       "3              Israel         0.957586        0.912436        0.959308   \n",
       "4         Netherlands         0.948616        0.938422        0.946083   \n",
       "..                ...              ...             ...             ...   \n",
       "132  Congo (Kinshasa)         0.410943        0.600943        0.663276   \n",
       "133          Zimbabwe         0.410559        0.655317        0.701933   \n",
       "134      Sierra Leone         0.402101        0.634134        0.564598   \n",
       "135           Lebanon         0.306509        0.812864        0.539166   \n",
       "136       Afghanistan         0.238211        0.628130        0.346897   \n",
       "\n",
       "     Healthy Life Expectancy   Freedom  Generosity  Corruption  Dystopia  \\\n",
       "0                   0.920678  1.000000   -0.035782    0.195910  0.799662   \n",
       "1                   0.921972  0.971904    0.252354    0.210980  0.705245   \n",
       "2                   0.932324  0.973985    0.397363    0.719053  0.761421   \n",
       "3                   0.940696  0.841831   -0.043315    0.762110  0.910660   \n",
       "4                   0.925854  0.922997    0.401130    0.407966  0.714044   \n",
       "..                       ...       ...         ...         ...       ...   \n",
       "132                 0.716550  0.690947    0.161959    0.897740  0.393232   \n",
       "133                 0.699405  0.680541   -0.086629    0.824543  0.306261   \n",
       "134                 0.710404  0.686785    0.197740    0.923574  0.413198   \n",
       "135                 0.855965  0.493236   -0.265537    0.959096 -0.037225   \n",
       "136                 0.707971  0.397503   -0.152542    0.911733  0.330288   \n",
       "\n",
       "     cluster  \n",
       "0          1  \n",
       "1          1  \n",
       "2          1  \n",
       "3          0  \n",
       "4          1  \n",
       "..       ...  \n",
       "132        0  \n",
       "133        0  \n",
       "134        0  \n",
       "135        0  \n",
       "136        0  \n",
       "\n",
       "[136 rows x 10 columns]"
      ]
     },
     "execution_count": 112,
     "metadata": {},
     "output_type": "execute_result"
    }
   ],
   "source": [
    "df2[ \"cluster\"] = kmeans.predict( df2[numeric_columns])\n",
    "df2"
   ]
  },
  {
   "cell_type": "markdown",
   "metadata": {},
   "source": [
    "### 🔬 Test Case Checkpoint 🔬"
   ]
  },
  {
   "cell_type": "code",
   "execution_count": 113,
   "metadata": {},
   "outputs": [
    {
     "name": "stdout",
     "output_type": "stream",
     "text": [
      "🎉 All tests passed! 🎉\n"
     ]
    }
   ],
   "source": [
    "## == TEST CASES for Puzzle 2.8 ==\n",
    "# - This read-only cell contains test cases for your previous cell.\n",
    "# - If this cell runs without any error our output, you PASSED all test cases!\n",
    "# - If this cell results in any errors, check you previous cell, make changes, and RE-RUN your code and then this cell.\n",
    "import pandas.api.types as ptypes\n",
    "assert('cluster' in df2.columns.to_list()), \"The cluster predictions should be stored in a column `cluster` of `df2`.\"\n",
    "assert(ptypes.is_numeric_dtype(df2['cluster'])), \"The `cluster` column should be numeric.\"\n",
    "assert(set(df2.cluster.unique()) == set([0, 1])), \"The `cluster` column should contain values of 0 and 1 (representing the cluster of each row).\"\n",
    "\n",
    "## == SUCCESS MESSAGE ==\n",
    "# You will only see this message (with the emoji showing) if you passed all test cases:\n",
    "tada = \"\\N{PARTY POPPER}\"\n",
    "print(f\"{tada} All tests passed! {tada}\")"
   ]
  },
  {
   "attachments": {},
   "cell_type": "markdown",
   "metadata": {},
   "source": [
    "## Puzzle 2.9: Visualizing Your Model\n",
    "\n",
    "In the cell below, we've used `df2.plot.scatter()` to display a **scatterplot** of some columns of our data. We specify the **parameter** `c` (color) to be the `cluster` of each data point, visualizing the **two clusters** in **two different colors**. \n",
    "\n",
    "The columns in the scatterplot that will be generated below are of `GPD Per Capita` (on the x-axis) and `Happiness Score` (on the y-axis).\n",
    "\n",
    "*Do not modify the cell below - just **run it!***"
   ]
  },
  {
   "cell_type": "code",
   "execution_count": 114,
   "metadata": {},
   "outputs": [
    {
     "data": {
      "text/plain": [
       "<Axes: xlabel='GDP Per Capita', ylabel='Happiness Score'>"
      ]
     },
     "execution_count": 114,
     "metadata": {},
     "output_type": "execute_result"
    },
    {
     "data": {
      "image/png": "[encoded data removed]",
      "text/plain": [
       "<Figure size 640x480 with 2 Axes>"
      ]
     },
     "metadata": {},
     "output_type": "display_data"
    }
   ],
   "source": [
    "df2.plot.scatter(\n",
    "    x='GDP Per Capita', \n",
    "    y='Happiness Score',\n",
    "    c=\"cluster\",\n",
    "    colormap='Set1'\n",
    ")"
   ]
  },
  {
   "attachments": {},
   "cell_type": "markdown",
   "metadata": {},
   "source": [
    "**Q7: In the plot above, do we see clean clusters, or are points intermingled? What does this say about our clustering model in relation to the columns shown in the plot?**"
   ]
  },
  {
   "attachments": {},
   "cell_type": "markdown",
   "metadata": {},
   "source": [
    "*(✏️ There are points intermingled with each other. It probably means that our columns have similar effects to happiness as others columns ✏️)*"
   ]
  },
  {
   "attachments": {},
   "cell_type": "markdown",
   "metadata": {},
   "source": [
    "Next, using the code from **above** as a template, generate a **scatter plot** of `df2` such that:\n",
    "- We observe the **relationship between** `Happiness Score` and `Generosity` (these are your `x` and `y`)\n",
    "- Visualize the **clusters by color** (keep `c` and `colormap` identical):"
   ]
  },
  {
   "cell_type": "code",
   "execution_count": 115,
   "metadata": {},
   "outputs": [
    {
     "data": {
      "text/plain": [
       "<Axes: xlabel='Happiness Score', ylabel='Generosity'>"
      ]
     },
     "execution_count": 115,
     "metadata": {},
     "output_type": "execute_result"
    },
    {
     "data": {
      "image/png": "[encoded data removed]",
      "text/plain": [
       "<Figure size 640x480 with 2 Axes>"
      ]
     },
     "metadata": {},
     "output_type": "display_data"
    }
   ],
   "source": [
    "df2.plot.scatter(\n",
    "    x='Happiness Score', \n",
    "    y='Generosity',\n",
    "    c=\"cluster\",\n",
    "    colormap='Set1'\n",
    ")"
   ]
  },
  {
   "attachments": {},
   "cell_type": "markdown",
   "metadata": {},
   "source": [
    "**Q8: In the plot above, do we see clean clusters, or are points intermingled? In Part 1, you may have observed a low correlation between `Happiness Score` and `Generosity`. Does this make sense given the clusters above? Why or why not?**"
   ]
  },
  {
   "attachments": {},
   "cell_type": "markdown",
   "metadata": {},
   "source": [
    "*(✏️ Points aren't as intermingles as the other graph. Yes it makes sense as in the cluster you can still infer that there is a low correlation between happiness and generosity as their points aren't so intermingled. ✏️)*"
   ]
  },
  {
   "attachments": {},
   "cell_type": "markdown",
   "metadata": {},
   "source": [
    "Finally, generate a **scatter plot** of `df2` such that:\n",
    "- We observe the **relationship between** `GDP Per Capita` and `Healthy Life Expectancy` (these are your `x` and `y`)\n",
    "- Visualize the **clusters by color** (keep `c` and `colormap` identical):"
   ]
  },
  {
   "cell_type": "code",
   "execution_count": 116,
   "metadata": {},
   "outputs": [
    {
     "data": {
      "text/plain": [
       "<Axes: xlabel='GDP Per Capita', ylabel='Healthy Life Expectancy'>"
      ]
     },
     "execution_count": 116,
     "metadata": {},
     "output_type": "execute_result"
    },
    {
     "data": {
      "image/png": "[encoded data removed]",
      "text/plain": [
       "<Figure size 640x480 with 2 Axes>"
      ]
     },
     "metadata": {},
     "output_type": "display_data"
    }
   ],
   "source": [
    "df2.plot.scatter(\n",
    "    x='GDP Per Capita', \n",
    "    y='Healthy Life Expectancy',\n",
    "    c=\"cluster\",\n",
    "    colormap='Set1'\n",
    ")"
   ]
  },
  {
   "attachments": {},
   "cell_type": "markdown",
   "metadata": {},
   "source": [
    "**Q9: In the plot above, do we see clean clusters, or are points intermingled? In Part 1, you may have observed a high correlation between `GDP Per Capita` and `Healthy Life Expectancy`. Does this make sense given the clusters above? Why or why not?**"
   ]
  },
  {
   "attachments": {},
   "cell_type": "markdown",
   "metadata": {},
   "source": [
    "*(✏️ The points are intermingled. This makes sense as a good correlation means a visual relationship. In this graph you can see that as GDP per Capita goes up, Healthy Life Expectancy goes up as well. ✏️)*"
   ]
  },
  {
   "cell_type": "markdown",
   "metadata": {},
   "source": [
    "<hr style=\"color: #DD3403;\">"
   ]
  },
  {
   "attachments": {},
   "cell_type": "markdown",
   "metadata": {},
   "source": [
    "# Part 3: A Third Cluster\n",
    "Our first `kmeans` model was created with only **two (2) clusters**. This is a valid start, but perhaps **more clusters** suit the dataset better. \n",
    "\n",
    "Let's experiment by adding **an additional cluster** and observe any differences in model results!\n",
    "\n",
    "## Puzzle 3.1: Creating and Training our Model\n",
    "\n",
    "In the cell below, create a new KMeans model named `kmeans_three` that contains **three (3) clusters**:\n"
   ]
  },
  {
   "cell_type": "code",
   "execution_count": 120,
   "metadata": {},
   "outputs": [],
   "source": [
    "kmeans_three = KMeans(n_clusters=3)"
   ]
  },
  {
   "attachments": {},
   "cell_type": "markdown",
   "metadata": {},
   "source": [
    "Recall that KMeans models can only be fit to **numeric data**, and the data **cannot be NaN**. \n",
    "\n",
    "Using the `numeric_columns` and `df2`, `fit` your `kmeans_three` model:"
   ]
  },
  {
   "cell_type": "code",
   "execution_count": 123,
   "metadata": {},
   "outputs": [
    {
     "name": "stderr",
     "output_type": "stream",
     "text": [
      "c:\\Users\\Andres Gomez\\AppData\\Local\\Programs\\Python\\Python311\\Lib\\site-packages\\sklearn\\cluster\\_kmeans.py:870: FutureWarning: The default value of `n_init` will change from 10 to 'auto' in 1.4. Set the value of `n_init` explicitly to suppress the warning\n",
      "  warnings.warn(\n"
     ]
    }
   ],
   "source": [
    "model = kmeans_three.fit( df2[numeric_columns])"
   ]
  },
  {
   "cell_type": "markdown",
   "metadata": {},
   "source": [
    "### 🔬 Test Case Checkpoint 🔬"
   ]
  },
  {
   "cell_type": "code",
   "execution_count": 124,
   "metadata": {},
   "outputs": [
    {
     "name": "stdout",
     "output_type": "stream",
     "text": [
      "🎉 All tests passed! 🎉\n"
     ]
    }
   ],
   "source": [
    "## == TEST CASES for Puzzle 3.1 ==\n",
    "# - This read-only cell contains test cases for your previous cell.\n",
    "# - If this cell runs without any error our output, you PASSED all test cases!\n",
    "# - If this cell results in any errors, check you previous cell, make changes, and RE-RUN your code and then this cell.\n",
    "assert(isinstance(kmeans_three, KMeans)), \"The KMeans model with three clusters should be saved as `kmeans_three`.\"\n",
    "assert(kmeans_three.n_clusters == 3), \"The `kmeans_three` model should have three clusters.\"\n",
    "assert(kmeans_three.cluster_centers_ is not None), \"The `kmeans_three` model should be trained with `df2`'s `numeric_columns`.\"\n",
    "\n",
    "## == SUCCESS MESSAGE ==\n",
    "# You will only see this message (with the emoji showing) if you passed all test cases:\n",
    "tada = \"\\N{PARTY POPPER}\"\n",
    "print(f\"{tada} All tests passed! {tada}\")"
   ]
  },
  {
   "attachments": {},
   "cell_type": "markdown",
   "metadata": {},
   "source": [
    "## Puzzle 3.2: Model Centroids"
   ]
  },
  {
   "attachments": {},
   "cell_type": "markdown",
   "metadata": {},
   "source": [
    "Explore the **centroids** of your `kmeans_three` model alongside the  **numeric columns** by **running the cells below**:\n",
    "\n",
    "Remember, the **order of numbers displayed** will be the **same order** as the columns are listed in `numeric_columns`. "
   ]
  },
  {
   "cell_type": "code",
   "execution_count": 125,
   "metadata": {},
   "outputs": [
    {
     "data": {
      "text/plain": [
       "array([[ 0.73551405,  0.84505893,  0.8566764 ,  0.866435  ,  0.82127152,\n",
       "        -0.16502643,  0.83935206,  0.59697069],\n",
       "       [ 0.8838256 ,  0.93321898,  0.92599186,  0.91524489,  0.92464447,\n",
       "         0.20935342,  0.46210083,  0.60513254],\n",
       "       [ 0.59618145,  0.70985249,  0.70309257,  0.7729485 ,  0.76836629,\n",
       "         0.22485876,  0.85890205,  0.60574619]])"
      ]
     },
     "execution_count": 125,
     "metadata": {},
     "output_type": "execute_result"
    }
   ],
   "source": [
    "kmeans_three.cluster_centers_"
   ]
  },
  {
   "cell_type": "code",
   "execution_count": 126,
   "metadata": {},
   "outputs": [
    {
     "data": {
      "text/plain": [
       "['Happiness Score',\n",
       " 'GDP Per Capita',\n",
       " 'Social Support',\n",
       " 'Healthy Life Expectancy',\n",
       " 'Freedom',\n",
       " 'Generosity',\n",
       " 'Corruption',\n",
       " 'Dystopia']"
      ]
     },
     "execution_count": 126,
     "metadata": {},
     "output_type": "execute_result"
    }
   ],
   "source": [
    "numeric_columns"
   ]
  },
  {
   "attachments": {},
   "cell_type": "markdown",
   "metadata": {},
   "source": [
    "### Analysis: Centroids, Again\n",
    "**Q10: Once more, answer both of these questions:**\n",
    "- Looking at the centroids above, which cluster would you expect to have the **\"happiest\"** countries? How do you know? \n",
    "- Which **features** are arguably **most important** to defining the **centroids**? (**Hint:** Look for the largest *differences* between values from centroid to centroid)"
   ]
  },
  {
   "attachments": {},
   "cell_type": "markdown",
   "metadata": {},
   "source": [
    "*(✏️ I think the second cluster will have the happiest country since all of their values are high compared to the other clusters.\n",
    "    It looks like corruption will be the most important to defining centroids as their differences between each cluster is great. ✏️)*"
   ]
  },
  {
   "attachments": {},
   "cell_type": "markdown",
   "metadata": {},
   "source": [
    "## Puzzle 3.3: Prediction, Again\n",
    "Now, we are going to predict the closest cluster centroids for each of our rows (countries). Using your `kmeans_three` model and the `numeric_columns`, `predict` the centroid for each row and store that prediction in a new column in `df2` called `three_cluster`:"
   ]
  },
  {
   "cell_type": "code",
   "execution_count": 132,
   "metadata": {},
   "outputs": [
    {
     "data": {
      "text/html": [
       "<div>\n",
       "<style scoped>\n",
       "    .dataframe tbody tr th:only-of-type {\n",
       "        vertical-align: middle;\n",
       "    }\n",
       "\n",
       "    .dataframe tbody tr th {\n",
       "        vertical-align: top;\n",
       "    }\n",
       "\n",
       "    .dataframe thead th {\n",
       "        text-align: right;\n",
       "    }\n",
       "</style>\n",
       "<table border=\"1\" class=\"dataframe\">\n",
       "  <thead>\n",
       "    <tr style=\"text-align: right;\">\n",
       "      <th></th>\n",
       "      <th>Country</th>\n",
       "      <th>Happiness Score</th>\n",
       "      <th>GDP Per Capita</th>\n",
       "      <th>Social Support</th>\n",
       "      <th>Healthy Life Expectancy</th>\n",
       "      <th>Freedom</th>\n",
       "      <th>Generosity</th>\n",
       "      <th>Corruption</th>\n",
       "      <th>Dystopia</th>\n",
       "      <th>cluster</th>\n",
       "      <th>three_cluster</th>\n",
       "    </tr>\n",
       "  </thead>\n",
       "  <tbody>\n",
       "    <tr>\n",
       "      <th>0</th>\n",
       "      <td>Finland</td>\n",
       "      <td>1.000000</td>\n",
       "      <td>0.925557</td>\n",
       "      <td>0.985758</td>\n",
       "      <td>0.920678</td>\n",
       "      <td>1.000000</td>\n",
       "      <td>-0.035782</td>\n",
       "      <td>0.195910</td>\n",
       "      <td>0.799662</td>\n",
       "      <td>1</td>\n",
       "      <td>1</td>\n",
       "    </tr>\n",
       "    <tr>\n",
       "      <th>1</th>\n",
       "      <td>Denmark</td>\n",
       "      <td>0.972066</td>\n",
       "      <td>0.940137</td>\n",
       "      <td>0.970498</td>\n",
       "      <td>0.921972</td>\n",
       "      <td>0.971904</td>\n",
       "      <td>0.252354</td>\n",
       "      <td>0.210980</td>\n",
       "      <td>0.705245</td>\n",
       "      <td>1</td>\n",
       "      <td>1</td>\n",
       "    </tr>\n",
       "    <tr>\n",
       "      <th>2</th>\n",
       "      <td>Iceland</td>\n",
       "      <td>0.964890</td>\n",
       "      <td>0.934477</td>\n",
       "      <td>1.000000</td>\n",
       "      <td>0.932324</td>\n",
       "      <td>0.973985</td>\n",
       "      <td>0.397363</td>\n",
       "      <td>0.719053</td>\n",
       "      <td>0.761421</td>\n",
       "      <td>1</td>\n",
       "      <td>1</td>\n",
       "    </tr>\n",
       "    <tr>\n",
       "      <th>3</th>\n",
       "      <td>Israel</td>\n",
       "      <td>0.957586</td>\n",
       "      <td>0.912436</td>\n",
       "      <td>0.959308</td>\n",
       "      <td>0.940696</td>\n",
       "      <td>0.841831</td>\n",
       "      <td>-0.043315</td>\n",
       "      <td>0.762110</td>\n",
       "      <td>0.910660</td>\n",
       "      <td>0</td>\n",
       "      <td>0</td>\n",
       "    </tr>\n",
       "    <tr>\n",
       "      <th>4</th>\n",
       "      <td>Netherlands</td>\n",
       "      <td>0.948616</td>\n",
       "      <td>0.938422</td>\n",
       "      <td>0.946083</td>\n",
       "      <td>0.925854</td>\n",
       "      <td>0.922997</td>\n",
       "      <td>0.401130</td>\n",
       "      <td>0.407966</td>\n",
       "      <td>0.714044</td>\n",
       "      <td>1</td>\n",
       "      <td>1</td>\n",
       "    </tr>\n",
       "    <tr>\n",
       "      <th>...</th>\n",
       "      <td>...</td>\n",
       "      <td>...</td>\n",
       "      <td>...</td>\n",
       "      <td>...</td>\n",
       "      <td>...</td>\n",
       "      <td>...</td>\n",
       "      <td>...</td>\n",
       "      <td>...</td>\n",
       "      <td>...</td>\n",
       "      <td>...</td>\n",
       "      <td>...</td>\n",
       "    </tr>\n",
       "    <tr>\n",
       "      <th>132</th>\n",
       "      <td>Congo (Kinshasa)</td>\n",
       "      <td>0.410943</td>\n",
       "      <td>0.600943</td>\n",
       "      <td>0.663276</td>\n",
       "      <td>0.716550</td>\n",
       "      <td>0.690947</td>\n",
       "      <td>0.161959</td>\n",
       "      <td>0.897740</td>\n",
       "      <td>0.393232</td>\n",
       "      <td>2</td>\n",
       "      <td>2</td>\n",
       "    </tr>\n",
       "    <tr>\n",
       "      <th>133</th>\n",
       "      <td>Zimbabwe</td>\n",
       "      <td>0.410559</td>\n",
       "      <td>0.655317</td>\n",
       "      <td>0.701933</td>\n",
       "      <td>0.699405</td>\n",
       "      <td>0.680541</td>\n",
       "      <td>-0.086629</td>\n",
       "      <td>0.824543</td>\n",
       "      <td>0.306261</td>\n",
       "      <td>2</td>\n",
       "      <td>2</td>\n",
       "    </tr>\n",
       "    <tr>\n",
       "      <th>134</th>\n",
       "      <td>Sierra Leone</td>\n",
       "      <td>0.402101</td>\n",
       "      <td>0.634134</td>\n",
       "      <td>0.564598</td>\n",
       "      <td>0.710404</td>\n",
       "      <td>0.686785</td>\n",
       "      <td>0.197740</td>\n",
       "      <td>0.923574</td>\n",
       "      <td>0.413198</td>\n",
       "      <td>2</td>\n",
       "      <td>2</td>\n",
       "    </tr>\n",
       "    <tr>\n",
       "      <th>135</th>\n",
       "      <td>Lebanon</td>\n",
       "      <td>0.306509</td>\n",
       "      <td>0.812864</td>\n",
       "      <td>0.539166</td>\n",
       "      <td>0.855965</td>\n",
       "      <td>0.493236</td>\n",
       "      <td>-0.265537</td>\n",
       "      <td>0.959096</td>\n",
       "      <td>-0.037225</td>\n",
       "      <td>0</td>\n",
       "      <td>0</td>\n",
       "    </tr>\n",
       "    <tr>\n",
       "      <th>136</th>\n",
       "      <td>Afghanistan</td>\n",
       "      <td>0.238211</td>\n",
       "      <td>0.628130</td>\n",
       "      <td>0.346897</td>\n",
       "      <td>0.707971</td>\n",
       "      <td>0.397503</td>\n",
       "      <td>-0.152542</td>\n",
       "      <td>0.911733</td>\n",
       "      <td>0.330288</td>\n",
       "      <td>2</td>\n",
       "      <td>2</td>\n",
       "    </tr>\n",
       "  </tbody>\n",
       "</table>\n",
       "<p>136 rows × 11 columns</p>\n",
       "</div>"
      ],
      "text/plain": [
       "              Country  Happiness Score  GDP Per Capita  Social Support  \\\n",
       "0             Finland         1.000000        0.925557        0.985758   \n",
       "1             Denmark         0.972066        0.940137        0.970498   \n",
       "2             Iceland         0.964890        0.934477        1.000000   \n",
       "3              Israel         0.957586        0.912436        0.959308   \n",
       "4         Netherlands         0.948616        0.938422        0.946083   \n",
       "..                ...              ...             ...             ...   \n",
       "132  Congo (Kinshasa)         0.410943        0.600943        0.663276   \n",
       "133          Zimbabwe         0.410559        0.655317        0.701933   \n",
       "134      Sierra Leone         0.402101        0.634134        0.564598   \n",
       "135           Lebanon         0.306509        0.812864        0.539166   \n",
       "136       Afghanistan         0.238211        0.628130        0.346897   \n",
       "\n",
       "     Healthy Life Expectancy   Freedom  Generosity  Corruption  Dystopia  \\\n",
       "0                   0.920678  1.000000   -0.035782    0.195910  0.799662   \n",
       "1                   0.921972  0.971904    0.252354    0.210980  0.705245   \n",
       "2                   0.932324  0.973985    0.397363    0.719053  0.761421   \n",
       "3                   0.940696  0.841831   -0.043315    0.762110  0.910660   \n",
       "4                   0.925854  0.922997    0.401130    0.407966  0.714044   \n",
       "..                       ...       ...         ...         ...       ...   \n",
       "132                 0.716550  0.690947    0.161959    0.897740  0.393232   \n",
       "133                 0.699405  0.680541   -0.086629    0.824543  0.306261   \n",
       "134                 0.710404  0.686785    0.197740    0.923574  0.413198   \n",
       "135                 0.855965  0.493236   -0.265537    0.959096 -0.037225   \n",
       "136                 0.707971  0.397503   -0.152542    0.911733  0.330288   \n",
       "\n",
       "     cluster  three_cluster  \n",
       "0          1              1  \n",
       "1          1              1  \n",
       "2          1              1  \n",
       "3          0              0  \n",
       "4          1              1  \n",
       "..       ...            ...  \n",
       "132        2              2  \n",
       "133        2              2  \n",
       "134        2              2  \n",
       "135        0              0  \n",
       "136        2              2  \n",
       "\n",
       "[136 rows x 11 columns]"
      ]
     },
     "execution_count": 132,
     "metadata": {},
     "output_type": "execute_result"
    }
   ],
   "source": [
    "df2[\"three_cluster\"] = kmeans_three.predict( df2[numeric_columns])\n",
    "df2"
   ]
  },
  {
   "cell_type": "markdown",
   "metadata": {},
   "source": [
    "### 🔬 Test Case Checkpoint 🔬"
   ]
  },
  {
   "cell_type": "code",
   "execution_count": 131,
   "metadata": {},
   "outputs": [
    {
     "name": "stdout",
     "output_type": "stream",
     "text": [
      "🎉 All tests passed! 🎉\n"
     ]
    }
   ],
   "source": [
    "## == TEST CASES for Puzzle 3.3 ==\n",
    "# - This read-only cell contains test cases for your previous cell.\n",
    "# - If this cell runs without any error our output, you PASSED all test cases!\n",
    "# - If this cell results in any errors, check you previous cell, make changes, and RE-RUN your code and then this cell.\n",
    "import pandas.api.types as ptypes\n",
    "assert('three_cluster' in df2.columns.to_list()), \"The cluster predictions for your kmeans_three model should be stored in a column `three_cluster` of `df2`.\"\n",
    "assert(ptypes.is_numeric_dtype(df2['three_cluster'])), \"The `three_cluster` column should be numeric.\"\n",
    "assert(set(df2.three_cluster.unique()) == set([0, 1, 2])), \"The `three_cluster` column should contain values of 0, 1, and 2 (representing the cluster of each row).\"\n",
    "\n",
    "## == SUCCESS MESSAGE ==\n",
    "# You will only see this message (with the emoji showing) if you passed all test cases:\n",
    "tada = \"\\N{PARTY POPPER}\"\n",
    "print(f\"{tada} All tests passed! {tada}\")"
   ]
  },
  {
   "attachments": {},
   "cell_type": "markdown",
   "metadata": {},
   "source": [
    "## Puzzle 3.4: Visualizing Your Model, Again"
   ]
  },
  {
   "attachments": {},
   "cell_type": "markdown",
   "metadata": {},
   "source": [
    "Now that we've trained and predicted our `kmeans_three` model, we can visualize a **scatterplot** of our data in clusters. We specify the **parameter** `c` (color) to be the `three_cluster` of each data point, visualizing the **three clusters** in **three different colors**. \n",
    "\n",
    "The columns in the scatterplot that will be generated below are of `GPD Per Capita` (on the x-axis) and `Happiness Score` (on the y-axis).\n",
    "\n",
    "Notice this code is **identical** to that from Puzzle 2.9, with the singular change of the `c` parameter passed to `scatter()`. \n",
    "\n",
    "*Do not modify the cell below - just **run it!***"
   ]
  },
  {
   "cell_type": "code",
   "execution_count": 133,
   "metadata": {},
   "outputs": [
    {
     "data": {
      "text/plain": [
       "<Axes: xlabel='GDP Per Capita', ylabel='Happiness Score'>"
      ]
     },
     "execution_count": 133,
     "metadata": {},
     "output_type": "execute_result"
    },
    {
     "data": {
      "image/png": "[encoded data removed]",
      "text/plain": [
       "<Figure size 640x480 with 2 Axes>"
      ]
     },
     "metadata": {},
     "output_type": "display_data"
    }
   ],
   "source": [
    "df2.plot.scatter(\n",
    "    x='GDP Per Capita', \n",
    "    y='Happiness Score',\n",
    "    c=\"three_cluster\",\n",
    "    colormap='Set1'\n",
    ")"
   ]
  },
  {
   "attachments": {},
   "cell_type": "markdown",
   "metadata": {},
   "source": [
    "**Q11: In the plot above, do we see clean clusters, or are points intermingled? What does this say about our clustering model in relation to the columns shown in the plot?**"
   ]
  },
  {
   "attachments": {},
   "cell_type": "markdown",
   "metadata": {},
   "source": [
    "*(✏️ It is kind of a mix of clean and intermingled and leaning more toward clean. This says that our model is pretty accurate ✏️)*"
   ]
  },
  {
   "attachments": {},
   "cell_type": "markdown",
   "metadata": {},
   "source": [
    "Next, again, using the code from **above** as a template, generate a **scatter plot** of `df2` such that:\n",
    "- We observe the **relationship between** `Happiness Score` and `Generosity` (these are your `x` and `y`)\n",
    "- Visualize the **clusters by color** (keep `c` and `colormap` identical):"
   ]
  },
  {
   "cell_type": "code",
   "execution_count": 135,
   "metadata": {},
   "outputs": [
    {
     "data": {
      "text/plain": [
       "<Axes: xlabel='Happiness Score', ylabel='Generosity'>"
      ]
     },
     "execution_count": 135,
     "metadata": {},
     "output_type": "execute_result"
    },
    {
     "data": {
      "image/png": "[encoded data removed]",
      "text/plain": [
       "<Figure size 640x480 with 2 Axes>"
      ]
     },
     "metadata": {},
     "output_type": "display_data"
    }
   ],
   "source": [
    "df2.plot.scatter(\n",
    "    x='Happiness Score', \n",
    "    y='Generosity',\n",
    "    c=\"three_cluster\",\n",
    "    colormap='Set1'\n",
    ")"
   ]
  },
  {
   "attachments": {},
   "cell_type": "markdown",
   "metadata": {},
   "source": [
    "**Q12: In the plot above, do we see clean clusters, or are points intermingled? In Part 1, you may have observed a low correlation between `Happiness Score` and `Generosity`. Does this make sense given the clusters above? Why or why not?**"
   ]
  },
  {
   "attachments": {},
   "cell_type": "markdown",
   "metadata": {},
   "source": [
    "*(✏️ We see somewhat of clean clusters. This does make sense given the cluster as you can't really say as happiness goes up so does generosity or vice versa ✏️)*"
   ]
  },
  {
   "attachments": {},
   "cell_type": "markdown",
   "metadata": {},
   "source": [
    "One last time, generate a **scatter plot** of `df2` such that:\n",
    "- We observe the **relationship between** `GDP Per Capita` and `Healthy Life Expectancy` (these are your `x` and `y`)\n",
    "- Visualize the **clusters by color** (keep `c` and `colormap` identical):"
   ]
  },
  {
   "cell_type": "code",
   "execution_count": 136,
   "metadata": {},
   "outputs": [
    {
     "data": {
      "text/plain": [
       "<Axes: xlabel='GDP Per Capita', ylabel='Healthy Life Expectancy'>"
      ]
     },
     "execution_count": 136,
     "metadata": {},
     "output_type": "execute_result"
    },
    {
     "data": {
      "image/png": "[encoded data removed]",
      "text/plain": [
       "<Figure size 640x480 with 2 Axes>"
      ]
     },
     "metadata": {},
     "output_type": "display_data"
    }
   ],
   "source": [
    "df2.plot.scatter(\n",
    "    x='GDP Per Capita', \n",
    "    y='Healthy Life Expectancy',\n",
    "    c=\"three_cluster\",\n",
    "    colormap='Set1'\n",
    ")"
   ]
  },
  {
   "attachments": {},
   "cell_type": "markdown",
   "metadata": {},
   "source": [
    "**Q13: In the plot above, do we see clean clusters, or are points intermingled? In Part 1, you may have observed a high correlation between `GDP Per Capita` and `Healthy Life Expectancy`. Does this make sense given the clusters above? Why or why not?**"
   ]
  },
  {
   "attachments": {},
   "cell_type": "markdown",
   "metadata": {},
   "source": [
    "*(✏️ We see mainly clean cluster. This makes sense given cluster because we can say that as GDP Per Capita goes up, so does Healthy Life Expectancy ✏️)*"
   ]
  },
  {
   "attachments": {},
   "cell_type": "markdown",
   "metadata": {},
   "source": [
    "### Group Analysis: Comparing Models\n",
    "**Q14:** Now that we've **trained and visualized** both a **two-cluster** and **three-cluster** KMeans model on the World Happiness Dataset, make some observations about the **performance of both**. Do you think one of the two models we've created **better clusters** the dataset or **reflects patterns** within it? Backup your answer with **at least three observations** from your visualizations. \n",
    "\n"
   ]
  },
  {
   "attachments": {},
   "cell_type": "markdown",
   "metadata": {},
   "source": [
    "*(✏️ I think a three cluster model helped me a lot more to understand what I was looking at. With the two cluster I was confused as there was a lot of points with only two different colors. However, with the three clusters I was able to tell the relationship between the correlation value and the cluster graph. ✏️)*"
   ]
  },
  {
   "attachments": {},
   "cell_type": "markdown",
   "metadata": {},
   "source": [
    "*Side Note:* If you are curious, there are **numeric metrics** in the `sklearn.metrics` module that can be used to evaluate clustering models **quantitatively**. Feel free to investigate any of those metrics on your own time (**not required** for this lab). One example of such a metric is **silhouette score** - which measures how similar an object is to its own cluster versus neighboring cluster(s)."
   ]
  },
  {
   "cell_type": "markdown",
   "metadata": {},
   "source": [
    "<hr style=\"color: #DD3403;\">"
   ]
  },
  {
   "attachments": {},
   "cell_type": "markdown",
   "metadata": {},
   "source": [
    "# Part 4: Reflecting on Machine Learning\n",
    "\n",
    "Q15: Consider the takeaways from both this lab and the previous (`lab_regression`). You've learned a lot about two **fundamental machine learning** techniques - **regression** and **clustering**. Given your experience, answer the following questions in a paragraph-style response:\n",
    "- When would you employ **regression** rather than **clustering** and vice-versa? What are the most important *\"tells\"* that a dataset can have to guide your intuition? \n",
    "- Do you believe that **clustering** was particularly effective for the **World Happiness Dataset**? What takeaways do you think **regression** have provided instead? \n",
    "- How would you approach conducting Machine Learning on our **Hello Dataset**? Do you believe it is better suited for **regression** or **clustering**? Both?  \n",
    "\n"
   ]
  },
  {
   "attachments": {},
   "cell_type": "markdown",
   "metadata": {},
   "source": [
    "*(✏️ I would employ regression when I have the answer and want to see an answer when I don't have the data along with the standard error. I would employ clustering when I do not have the answer and want to find the answer/relationship between different variables. I think clustering was effective for this dataset. If we used regression, we could probably predict the happiness of a country given a certain amount of a variable like corruption or social support. I think I would approach the Hello Dataset with clustering as I would wanna find any type of relationship possible. I think it is suited for both but more so clustering than regression.  ✏️)*"
   ]
  },
  {
   "cell_type": "markdown",
   "metadata": {},
   "source": [
    "<hr style=\"color: #DD3403;\">"
   ]
  },
  {
   "attachments": {},
   "cell_type": "markdown",
   "metadata": {},
   "source": [
    "# Submission\n",
    "\n",
    "You're almost done!  All you need to do is to commit your lab to GitHub:\n",
    "\n",
    "1.  ⚠️ **Make certain to save your work.** ⚠️ To do this, go to **File => Save All**\n",
    "\n",
    "2.  After you have saved, exit this notebook and follow the Canvas instructions to commit this lab to your Git repository!\n",
    "\n",
    "3. Your TA will grade your submission and provide you feedback after the lab is due. :)"
   ]
  }
 ],
 "metadata": {
  "kernelspec": {
   "display_name": "Python 3",
   "language": "python",
   "name": "python3"
  },
  "language_info": {
   "codemirror_mode": {
    "name": "ipython",
    "version": 3
   },
   "file_extension": ".py",
   "mimetype": "text/x-python",
   "name": "python",
   "nbconvert_exporter": "python",
   "pygments_lexer": "ipython3",
   "version": "3.11.1"
  },
  "orig_nbformat": 4
 },
 "nbformat": 4,
 "nbformat_minor": 2
}
