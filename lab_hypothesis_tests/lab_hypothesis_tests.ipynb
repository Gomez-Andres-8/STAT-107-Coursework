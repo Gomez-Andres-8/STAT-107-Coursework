{
 "cells": [
  {
   "attachments": {},
   "cell_type": "markdown",
   "metadata": {},
   "source": [
    "# Lab: Hypothesis Tests 📔❔\n",
    "In this lab, you will conduct hypothesis tests on the Hello Dataset! \n",
    "\n",
    "A few tips to remember:\n",
    "\n",
    "- **You are not alone on your journey in learning programming!**  You have your lab Teaching Assistant, your Course Aides, your lab group, and the professors (Prof. Wade and Prof. Karle), who are all here to help you out!\n",
    "- If you find yourself stuck for more than a few minutes, ask a neighbor or course staff for help!  When you are giving help to your neighbor, explain the **idea and approach** to the problem without sharing the answer itself so they can have the same **<i>ah-hah</i>** moment!\n",
    "- We are here to help you!  Don't feel embarrassed or shy to ask us for help!\n",
    "\n",
    "Let's get started!"
   ]
  },
  {
   "cell_type": "code",
   "execution_count": 35,
   "metadata": {},
   "outputs": [],
   "source": [
    "# Meet your CAs and TA if you haven't already!\n",
    "# ...first name is enough, we'll know who they are! :)\n",
    "ta_name = \"Kim\"\n",
    "ca1_name = \"Jessica\"\n",
    "ca2_name = \"Sony\"\n",
    "\n",
    "\n",
    "# Say hello to each other!\n",
    "# - Groups of 3 are ideal :)\n",
    "# - However, groups of 2 or 4 are fine too!\n",
    "\n",
    "# QOTD to ask your group: When it comes to restaurants on campus, what is a \"hot take\" you have?\n",
    "partner1_name = \"Aamir\"\n",
    "partner1_netid = \"aabjani2\"\n",
    "partner1_take = \"Kung fu hot pot\"\n",
    "\n",
    "partner3_name = \"Brian\"\n",
    "partner3_netid = \"bzilles\"\n",
    "partner2_take = \"Vegitarian food\"\n",
    "\n",
    "partner2_name = \"Brianna\"\n",
    "partner2_netid = \"bfons2\"\n",
    "partner3_take = \"Maize\""
   ]
  },
  {
   "cell_type": "markdown",
   "metadata": {},
   "source": [
    "<hr style=\"color: #DD3403;\">"
   ]
  },
  {
   "attachments": {},
   "cell_type": "markdown",
   "metadata": {},
   "source": [
    "# Part 1: Sleep\n",
    "Remember the Hello Survey you took towards the beginning of the semester? Well, we are bringing it bacK! We're going to conduct hypothesis tests using the **SP 23 Hello Dataset**. Specifically, we will answer this question: \n",
    "\n",
    "> **Do UIUC students get significantly different sleep compared to the average American?**\n",
    "\n",
    "First, as always, we must import the Hello Dataset. \n",
    "\n",
    "The \"Hello Dataset\" is available here:\n",
    "```\n",
    "https://waf.cs.illinois.edu/discovery/hello-sp23.csv\n",
    "```\n",
    "\n",
    "Use Python to load this dataset into a DataFrame called `df_hello`:"
   ]
  },
  {
   "cell_type": "code",
   "execution_count": 36,
   "metadata": {},
   "outputs": [
    {
     "data": {
      "text/html": [
       "<div>\n",
       "<style scoped>\n",
       "    .dataframe tbody tr th:only-of-type {\n",
       "        vertical-align: middle;\n",
       "    }\n",
       "\n",
       "    .dataframe tbody tr th {\n",
       "        vertical-align: top;\n",
       "    }\n",
       "\n",
       "    .dataframe thead th {\n",
       "        text-align: right;\n",
       "    }\n",
       "</style>\n",
       "<table border=\"1\" class=\"dataframe\">\n",
       "  <thead>\n",
       "    <tr style=\"text-align: right;\">\n",
       "      <th></th>\n",
       "      <th>Name</th>\n",
       "      <th>Section</th>\n",
       "      <th>Are you a \"Type A\" or \"Type B\" personality?</th>\n",
       "      <th>Are you a morning person?</th>\n",
       "      <th>Are you an international student?</th>\n",
       "      <th>Are you an only child?</th>\n",
       "      <th>Are you from the Chicagoland area?</th>\n",
       "      <th>Do you consider your home to be in the United States or Abroad?</th>\n",
       "      <th>Are you in-state or out-of-state?</th>\n",
       "      <th>Are you tired?</th>\n",
       "      <th>...</th>\n",
       "      <th>What college is your major a part of?</th>\n",
       "      <th>What do you think is the hardest college major?</th>\n",
       "      <th>What genre of music do you listen to?</th>\n",
       "      <th>What is the best boba place in Urbana-Champaign?</th>\n",
       "      <th>What is your favorite color?</th>\n",
       "      <th>What is your favorite food?</th>\n",
       "      <th>What is your favorite music artist?</th>\n",
       "      <th>What is your favorite TV show?</th>\n",
       "      <th>What's your favorite social media app?</th>\n",
       "      <th>Which European country would you like to visit?</th>\n",
       "    </tr>\n",
       "  </thead>\n",
       "  <tbody>\n",
       "    <tr>\n",
       "      <th>0</th>\n",
       "      <td>Prof Karle</td>\n",
       "      <td>AL1</td>\n",
       "      <td>Type B (patient, flexible, laid-back)</td>\n",
       "      <td>No</td>\n",
       "      <td>No</td>\n",
       "      <td>No</td>\n",
       "      <td>No</td>\n",
       "      <td>United States</td>\n",
       "      <td>In-State</td>\n",
       "      <td>Yes</td>\n",
       "      <td>...</td>\n",
       "      <td>LAS</td>\n",
       "      <td>Computer Science</td>\n",
       "      <td>pop</td>\n",
       "      <td>LaTea</td>\n",
       "      <td>pink</td>\n",
       "      <td>Tacos</td>\n",
       "      <td>Taylor Swift</td>\n",
       "      <td>How to Get Away with Murder</td>\n",
       "      <td>Instagram</td>\n",
       "      <td>Italy</td>\n",
       "    </tr>\n",
       "    <tr>\n",
       "      <th>1</th>\n",
       "      <td>Prof Wade</td>\n",
       "      <td>AL1</td>\n",
       "      <td>Type A (ambitious, competitive, aggressive)</td>\n",
       "      <td>No</td>\n",
       "      <td>No</td>\n",
       "      <td>No</td>\n",
       "      <td>No</td>\n",
       "      <td>United States</td>\n",
       "      <td>In-State</td>\n",
       "      <td>No</td>\n",
       "      <td>...</td>\n",
       "      <td>Grainger</td>\n",
       "      <td>CS</td>\n",
       "      <td>Pop</td>\n",
       "      <td>IDK?</td>\n",
       "      <td>Purple</td>\n",
       "      <td>BBQ</td>\n",
       "      <td>Taylor Swift</td>\n",
       "      <td>NaN</td>\n",
       "      <td>YouTube</td>\n",
       "      <td>Spain</td>\n",
       "    </tr>\n",
       "    <tr>\n",
       "      <th>2</th>\n",
       "      <td>Harsh</td>\n",
       "      <td>AYB</td>\n",
       "      <td>Type A (ambitious, competitive, aggressive)</td>\n",
       "      <td>Yes</td>\n",
       "      <td>Yes</td>\n",
       "      <td>No</td>\n",
       "      <td>No</td>\n",
       "      <td>United States</td>\n",
       "      <td>Out-of-State</td>\n",
       "      <td>Yes</td>\n",
       "      <td>...</td>\n",
       "      <td>NaN</td>\n",
       "      <td>NaN</td>\n",
       "      <td>NaN</td>\n",
       "      <td>NaN</td>\n",
       "      <td>NaN</td>\n",
       "      <td>NaN</td>\n",
       "      <td>NaN</td>\n",
       "      <td>NaN</td>\n",
       "      <td>NaN</td>\n",
       "      <td>NaN</td>\n",
       "    </tr>\n",
       "    <tr>\n",
       "      <th>3</th>\n",
       "      <td>Norman</td>\n",
       "      <td>AYO</td>\n",
       "      <td>Type B (patient, flexible, laid-back)</td>\n",
       "      <td>No</td>\n",
       "      <td>Yes</td>\n",
       "      <td>No</td>\n",
       "      <td>No</td>\n",
       "      <td>Abroad</td>\n",
       "      <td>Out-of-State</td>\n",
       "      <td>No</td>\n",
       "      <td>...</td>\n",
       "      <td>Gies</td>\n",
       "      <td>Math</td>\n",
       "      <td>Jazz</td>\n",
       "      <td>Tea Moji</td>\n",
       "      <td>Blue</td>\n",
       "      <td>NaN</td>\n",
       "      <td>NaN</td>\n",
       "      <td>Breaking Bad</td>\n",
       "      <td>Discord</td>\n",
       "      <td>Switzerland</td>\n",
       "    </tr>\n",
       "    <tr>\n",
       "      <th>4</th>\n",
       "      <td>Christ`</td>\n",
       "      <td>AYM</td>\n",
       "      <td>Type A (ambitious, competitive, aggressive)</td>\n",
       "      <td>Yes</td>\n",
       "      <td>No</td>\n",
       "      <td>No</td>\n",
       "      <td>Yes</td>\n",
       "      <td>United States</td>\n",
       "      <td>In-State</td>\n",
       "      <td>No</td>\n",
       "      <td>...</td>\n",
       "      <td>Information Scineces</td>\n",
       "      <td>Chemical Engineering</td>\n",
       "      <td>Hip Hop</td>\n",
       "      <td>I don't know</td>\n",
       "      <td>Red</td>\n",
       "      <td>Plantain chips</td>\n",
       "      <td>J. Cole</td>\n",
       "      <td>BMF</td>\n",
       "      <td>Instagram</td>\n",
       "      <td>Portugal</td>\n",
       "    </tr>\n",
       "    <tr>\n",
       "      <th>...</th>\n",
       "      <td>...</td>\n",
       "      <td>...</td>\n",
       "      <td>...</td>\n",
       "      <td>...</td>\n",
       "      <td>...</td>\n",
       "      <td>...</td>\n",
       "      <td>...</td>\n",
       "      <td>...</td>\n",
       "      <td>...</td>\n",
       "      <td>...</td>\n",
       "      <td>...</td>\n",
       "      <td>...</td>\n",
       "      <td>...</td>\n",
       "      <td>...</td>\n",
       "      <td>...</td>\n",
       "      <td>...</td>\n",
       "      <td>...</td>\n",
       "      <td>...</td>\n",
       "      <td>...</td>\n",
       "      <td>...</td>\n",
       "      <td>...</td>\n",
       "    </tr>\n",
       "    <tr>\n",
       "      <th>368</th>\n",
       "      <td>Maryam</td>\n",
       "      <td>AYC</td>\n",
       "      <td>Type A (ambitious, competitive, aggressive)</td>\n",
       "      <td>No</td>\n",
       "      <td>No</td>\n",
       "      <td>No</td>\n",
       "      <td>Yes</td>\n",
       "      <td>United States</td>\n",
       "      <td>In-State</td>\n",
       "      <td>Yes</td>\n",
       "      <td>...</td>\n",
       "      <td>iSchool</td>\n",
       "      <td>CS</td>\n",
       "      <td>R&amp;B</td>\n",
       "      <td>Tiger Sugar</td>\n",
       "      <td>Green</td>\n",
       "      <td>Sushi</td>\n",
       "      <td>The Weeknd</td>\n",
       "      <td>One Tree Hill</td>\n",
       "      <td>TikTok</td>\n",
       "      <td>Montenegro</td>\n",
       "    </tr>\n",
       "    <tr>\n",
       "      <th>369</th>\n",
       "      <td>Nick</td>\n",
       "      <td>AYB</td>\n",
       "      <td>Type A (ambitious, competitive, aggressive)</td>\n",
       "      <td>No</td>\n",
       "      <td>Yes</td>\n",
       "      <td>Yes</td>\n",
       "      <td>No</td>\n",
       "      <td>Abroad</td>\n",
       "      <td>Out-of-State</td>\n",
       "      <td>Yes</td>\n",
       "      <td>...</td>\n",
       "      <td>LAS</td>\n",
       "      <td>CS</td>\n",
       "      <td>Rap</td>\n",
       "      <td>Teamoji</td>\n",
       "      <td>White</td>\n",
       "      <td>Hot pot</td>\n",
       "      <td>Taylor Swift</td>\n",
       "      <td>Office</td>\n",
       "      <td>Twitter</td>\n",
       "      <td>France</td>\n",
       "    </tr>\n",
       "    <tr>\n",
       "      <th>370</th>\n",
       "      <td>Bowei</td>\n",
       "      <td>AYE</td>\n",
       "      <td>Type B (patient, flexible, laid-back)</td>\n",
       "      <td>No</td>\n",
       "      <td>Yes</td>\n",
       "      <td>Yes</td>\n",
       "      <td>No</td>\n",
       "      <td>Abroad</td>\n",
       "      <td>Out-of-State</td>\n",
       "      <td>Yes</td>\n",
       "      <td>...</td>\n",
       "      <td>LAS</td>\n",
       "      <td>Computer Science</td>\n",
       "      <td>pop</td>\n",
       "      <td>Kungfu Tea</td>\n",
       "      <td>blue</td>\n",
       "      <td>Chinese</td>\n",
       "      <td>Jay Chou</td>\n",
       "      <td>Young Sheldon</td>\n",
       "      <td>WeChat</td>\n",
       "      <td>England</td>\n",
       "    </tr>\n",
       "    <tr>\n",
       "      <th>371</th>\n",
       "      <td>Sean</td>\n",
       "      <td>AYF</td>\n",
       "      <td>Type B (patient, flexible, laid-back)</td>\n",
       "      <td>No</td>\n",
       "      <td>No</td>\n",
       "      <td>No</td>\n",
       "      <td>Yes</td>\n",
       "      <td>United States</td>\n",
       "      <td>In-State</td>\n",
       "      <td>No</td>\n",
       "      <td>...</td>\n",
       "      <td>Gies</td>\n",
       "      <td>Physics</td>\n",
       "      <td>Pop</td>\n",
       "      <td>KFT</td>\n",
       "      <td>Red</td>\n",
       "      <td>Sushi</td>\n",
       "      <td>Bruno Mars</td>\n",
       "      <td>The Office</td>\n",
       "      <td>Twitter</td>\n",
       "      <td>Sweden</td>\n",
       "    </tr>\n",
       "    <tr>\n",
       "      <th>372</th>\n",
       "      <td>TA Yiming</td>\n",
       "      <td>AYO, AYQ</td>\n",
       "      <td>Type A (ambitious, competitive, aggressive)</td>\n",
       "      <td>No</td>\n",
       "      <td>Yes</td>\n",
       "      <td>Yes</td>\n",
       "      <td>No</td>\n",
       "      <td>Abroad</td>\n",
       "      <td>In-State</td>\n",
       "      <td>No</td>\n",
       "      <td>...</td>\n",
       "      <td>Statistics</td>\n",
       "      <td>Programming</td>\n",
       "      <td>Pop music</td>\n",
       "      <td>No idea</td>\n",
       "      <td>Purple</td>\n",
       "      <td>Beef</td>\n",
       "      <td>Dao Lang</td>\n",
       "      <td>News</td>\n",
       "      <td>WeChat</td>\n",
       "      <td>Greece</td>\n",
       "    </tr>\n",
       "  </tbody>\n",
       "</table>\n",
       "<p>373 rows × 91 columns</p>\n",
       "</div>"
      ],
      "text/plain": [
       "           Name   Section  Are you a \"Type A\" or \"Type B\" personality?  \\\n",
       "0    Prof Karle       AL1        Type B (patient, flexible, laid-back)   \n",
       "1     Prof Wade       AL1  Type A (ambitious, competitive, aggressive)   \n",
       "2         Harsh       AYB  Type A (ambitious, competitive, aggressive)   \n",
       "3       Norman        AYO        Type B (patient, flexible, laid-back)   \n",
       "4       Christ`       AYM  Type A (ambitious, competitive, aggressive)   \n",
       "..          ...       ...                                          ...   \n",
       "368      Maryam       AYC  Type A (ambitious, competitive, aggressive)   \n",
       "369        Nick       AYB  Type A (ambitious, competitive, aggressive)   \n",
       "370       Bowei       AYE        Type B (patient, flexible, laid-back)   \n",
       "371        Sean       AYF        Type B (patient, flexible, laid-back)   \n",
       "372   TA Yiming  AYO, AYQ  Type A (ambitious, competitive, aggressive)   \n",
       "\n",
       "    Are you a morning person? Are you an international student?  \\\n",
       "0                          No                                No   \n",
       "1                          No                                No   \n",
       "2                         Yes                               Yes   \n",
       "3                          No                               Yes   \n",
       "4                         Yes                                No   \n",
       "..                        ...                               ...   \n",
       "368                        No                                No   \n",
       "369                        No                               Yes   \n",
       "370                        No                               Yes   \n",
       "371                        No                                No   \n",
       "372                        No                               Yes   \n",
       "\n",
       "    Are you an only child? Are you from the Chicagoland area?  \\\n",
       "0                       No                                 No   \n",
       "1                       No                                 No   \n",
       "2                       No                                 No   \n",
       "3                       No                                 No   \n",
       "4                       No                                Yes   \n",
       "..                     ...                                ...   \n",
       "368                     No                                Yes   \n",
       "369                    Yes                                 No   \n",
       "370                    Yes                                 No   \n",
       "371                     No                                Yes   \n",
       "372                    Yes                                 No   \n",
       "\n",
       "    Do you consider your home to be in the United States or Abroad?  \\\n",
       "0                                        United States                \n",
       "1                                        United States                \n",
       "2                                        United States                \n",
       "3                                               Abroad                \n",
       "4                                        United States                \n",
       "..                                                 ...                \n",
       "368                                      United States                \n",
       "369                                             Abroad                \n",
       "370                                             Abroad                \n",
       "371                                      United States                \n",
       "372                                             Abroad                \n",
       "\n",
       "    Are you in-state or out-of-state? Are you tired?  ...  \\\n",
       "0                            In-State            Yes  ...   \n",
       "1                            In-State             No  ...   \n",
       "2                        Out-of-State            Yes  ...   \n",
       "3                        Out-of-State             No  ...   \n",
       "4                            In-State             No  ...   \n",
       "..                                ...            ...  ...   \n",
       "368                          In-State            Yes  ...   \n",
       "369                      Out-of-State            Yes  ...   \n",
       "370                      Out-of-State            Yes  ...   \n",
       "371                          In-State             No  ...   \n",
       "372                          In-State             No  ...   \n",
       "\n",
       "    What college is your major a part of?  \\\n",
       "0                                     LAS   \n",
       "1                                Grainger   \n",
       "2                                     NaN   \n",
       "3                                    Gies   \n",
       "4                    Information Scineces   \n",
       "..                                    ...   \n",
       "368                               iSchool   \n",
       "369                                   LAS   \n",
       "370                                   LAS   \n",
       "371                                  Gies   \n",
       "372                            Statistics   \n",
       "\n",
       "    What do you think is the hardest college major?  \\\n",
       "0                                  Computer Science   \n",
       "1                                                CS   \n",
       "2                                               NaN   \n",
       "3                                              Math   \n",
       "4                              Chemical Engineering   \n",
       "..                                              ...   \n",
       "368                                              CS   \n",
       "369                                              CS   \n",
       "370                                Computer Science   \n",
       "371                                         Physics   \n",
       "372                                     Programming   \n",
       "\n",
       "    What genre of music do you listen to?  \\\n",
       "0                                     pop   \n",
       "1                                     Pop   \n",
       "2                                     NaN   \n",
       "3                                    Jazz   \n",
       "4                                 Hip Hop   \n",
       "..                                    ...   \n",
       "368                                   R&B   \n",
       "369                                   Rap   \n",
       "370                                   pop   \n",
       "371                                   Pop   \n",
       "372                             Pop music   \n",
       "\n",
       "    What is the best boba place in Urbana-Champaign?  \\\n",
       "0                                              LaTea   \n",
       "1                                               IDK?   \n",
       "2                                                NaN   \n",
       "3                                           Tea Moji   \n",
       "4                                       I don't know   \n",
       "..                                               ...   \n",
       "368                                     Tiger Sugar    \n",
       "369                                          Teamoji   \n",
       "370                                       Kungfu Tea   \n",
       "371                                              KFT   \n",
       "372                                          No idea   \n",
       "\n",
       "    What is your favorite color? What is your favorite food?  \\\n",
       "0                           pink                       Tacos   \n",
       "1                         Purple                         BBQ   \n",
       "2                            NaN                         NaN   \n",
       "3                           Blue                         NaN   \n",
       "4                            Red              Plantain chips   \n",
       "..                           ...                         ...   \n",
       "368                        Green                       Sushi   \n",
       "369                        White                     Hot pot   \n",
       "370                         blue                     Chinese   \n",
       "371                          Red                       Sushi   \n",
       "372                       Purple                        Beef   \n",
       "\n",
       "    What is your favorite music artist? What is your favorite TV show?  \\\n",
       "0                          Taylor Swift    How to Get Away with Murder   \n",
       "1                          Taylor Swift                            NaN   \n",
       "2                                   NaN                            NaN   \n",
       "3                                   NaN                   Breaking Bad   \n",
       "4                               J. Cole                            BMF   \n",
       "..                                  ...                            ...   \n",
       "368                          The Weeknd                  One Tree Hill   \n",
       "369                        Taylor Swift                         Office   \n",
       "370                            Jay Chou                  Young Sheldon   \n",
       "371                          Bruno Mars                     The Office   \n",
       "372                            Dao Lang                           News   \n",
       "\n",
       "    What's your favorite social media app?  \\\n",
       "0                                Instagram   \n",
       "1                                  YouTube   \n",
       "2                                      NaN   \n",
       "3                                  Discord   \n",
       "4                                Instagram   \n",
       "..                                     ...   \n",
       "368                                 TikTok   \n",
       "369                               Twitter    \n",
       "370                                 WeChat   \n",
       "371                                Twitter   \n",
       "372                                 WeChat   \n",
       "\n",
       "    Which European country would you like to visit?  \n",
       "0                                             Italy  \n",
       "1                                             Spain  \n",
       "2                                               NaN  \n",
       "3                                       Switzerland  \n",
       "4                                          Portugal  \n",
       "..                                              ...  \n",
       "368                                     Montenegro   \n",
       "369                                          France  \n",
       "370                                         England  \n",
       "371                                          Sweden  \n",
       "372                                          Greece  \n",
       "\n",
       "[373 rows x 91 columns]"
      ]
     },
     "execution_count": 36,
     "metadata": {},
     "output_type": "execute_result"
    }
   ],
   "source": [
    "import pandas as pd\n",
    "df_hello = pd.read_csv(\"https://waf.cs.illinois.edu/discovery/hello-sp23.csv\")\n",
    "df_hello"
   ]
  },
  {
   "cell_type": "markdown",
   "metadata": {},
   "source": [
    "### 🔬 Test Case Checkpoint 🔬"
   ]
  },
  {
   "cell_type": "code",
   "execution_count": 37,
   "metadata": {},
   "outputs": [
    {
     "name": "stdout",
     "output_type": "stream",
     "text": [
      "🎉 All tests passed! 🎉\n"
     ]
    }
   ],
   "source": [
    "## == CHECKPOINT TEST CASES ==\n",
    "# - This read-only cell contains test cases for your previous cell.\n",
    "# - If this cell runs without any errors, you PASSED 373all test cases!\n",
    "# - If this cell results in any errors, check your previous cell, make changes, and RE-RUN your code and then this cell.\n",
    "assert(\"df_hello\" in vars()), \"This is not the Hello dataset you're looking for. Check the URL.\"\n",
    "assert(\"Do you like ice cream?\" in df_hello), \"This is not the Hello dataset you're looking for. Check the URL.\"\n",
    "assert(len(df_hello) == 373), \"This is not the Hello dataset you're looking for. Check the URL.\"\n",
    "\n",
    "## == SUCCESS MESSAGE ==\n",
    "# You will only see this message (with the emoji showing) if you passed all test cases:\n",
    "tada = \"\\N{PARTY POPPER}\"\n",
    "print(f\"{tada} All tests passed! {tada}\")"
   ]
  },
  {
   "attachments": {},
   "cell_type": "markdown",
   "metadata": {},
   "source": [
    "## Setting Up The Test\n",
    "In 2013, [Gallup completed their latest survey on sleep](https://news.gallup.com/poll/166553/less-recommended-amount-sleep.aspx) that shows that the average amount of sleep Americans get is **6.8 hours**.  \n",
    "\n",
    "To determine whether Illinois students get significantly more or less sleep than the average American, we will treat the **SP23 students in DISCOVERY** as a **random sample** of the student population at UIUC. Then, we will conduct a **one-sample, two-sided Z-test** to answer our hypothesis. \n",
    "\n",
    "Before we begin, define our hypotheses. Remember, the average amount of sleep found in Gallup's study is **6.8** hours, and we want to determine if our random sample is **significantly different** from this average. \n",
    "\n",
    "**Q1: Write your null and alternative hypothesis using the cell below. Hint: you find the following symbol useful for the alternative hypothesis: $\\neq$** (double-click on this cell to copy it)"
   ]
  },
  {
   "attachments": {},
   "cell_type": "markdown",
   "metadata": {},
   "source": [
    "*(✏️ null would be when the our ranodm sample = 6.8 hours. Alternative would be when our random sample $\\neq$* 6.8 hours✏️)"
   ]
  },
  {
   "attachments": {},
   "cell_type": "markdown",
   "metadata": {},
   "source": [
    "## Puzzle 1.1: Summary Statistics\n",
    "Now that we've defined our hypotheses, we will need to find some basic **summary statistics** about the **average hours of sleep** of students in DISCOVERY before we conduct our **Z-test**. Our `df_hello` contains the average hours of sleep of students in DISCOVERY under the column named \"How many hours do you sleep in a day?\".\n",
    "\n",
    "Assign this column name to a **string variable** named `sleep_question` using the cell below:"
   ]
  },
  {
   "cell_type": "code",
   "execution_count": 38,
   "metadata": {},
   "outputs": [
    {
     "data": {
      "text/plain": [
       "'How many hours do you sleep in a day?'"
      ]
     },
     "execution_count": 38,
     "metadata": {},
     "output_type": "execute_result"
    }
   ],
   "source": [
    "sleep_question = \"How many hours do you sleep in a day?\"\n",
    "sleep_question"
   ]
  },
  {
   "cell_type": "markdown",
   "metadata": {},
   "source": [
    "Now, using `sleep_question` and your `df_hello`, find the **mean hours of sleep** of everyone in DISCOVERY, storing the result in the **integer variable** `sleep_mean`:"
   ]
  },
  {
   "cell_type": "code",
   "execution_count": 39,
   "metadata": {},
   "outputs": [
    {
     "data": {
      "text/plain": [
       "7.2399463806970505"
      ]
     },
     "execution_count": 39,
     "metadata": {},
     "output_type": "execute_result"
    }
   ],
   "source": [
    "sleep_mean = df_hello[sleep_question].mean()\n",
    "sleep_mean"
   ]
  },
  {
   "cell_type": "markdown",
   "metadata": {},
   "source": [
    "Next, find the **standard deviation** of hours of sleep of everyone in DISCOVERY, storing the result in the **integer variable** `sleep_std`:"
   ]
  },
  {
   "cell_type": "code",
   "execution_count": 40,
   "metadata": {},
   "outputs": [
    {
     "data": {
      "text/plain": [
       "1.5732771759566269"
      ]
     },
     "execution_count": 40,
     "metadata": {},
     "output_type": "execute_result"
    }
   ],
   "source": [
    "sleep_std = df_hello[sleep_question].std()\n",
    "sleep_std"
   ]
  },
  {
   "cell_type": "markdown",
   "metadata": {},
   "source": [
    "Finally, find the **sample size** we're using for this Z-test, storing the result in the **integer variable** `sample_size`. This is the total number of people (rows) in our `df_hello`."
   ]
  },
  {
   "cell_type": "code",
   "execution_count": 41,
   "metadata": {},
   "outputs": [
    {
     "data": {
      "text/plain": [
       "373"
      ]
     },
     "execution_count": 41,
     "metadata": {},
     "output_type": "execute_result"
    }
   ],
   "source": [
    "sample_size = len(df_hello)\n",
    "sample_size"
   ]
  },
  {
   "cell_type": "markdown",
   "metadata": {},
   "source": [
    "### 🔬 Test Case Checkpoint 🔬"
   ]
  },
  {
   "cell_type": "code",
   "execution_count": 42,
   "metadata": {},
   "outputs": [
    {
     "name": "stdout",
     "output_type": "stream",
     "text": [
      "🎉 All tests passed! 🎉\n"
     ]
    }
   ],
   "source": [
    "## == CHECKPOINT TEST CASES ==\n",
    "# - This read-only cell contains test cases for your previous cell.\n",
    "# - If this cell runs without any errors, you PASSED all test cases!\n",
    "# - If this cell results in any errors, check your previous cell, make changes, and RE-RUN your code and then this cell.\n",
    "import math\n",
    "names = ['sleep_question', 'sleep_mean', 'sleep_std', 'sample_size']\n",
    "for name in names:\n",
    "    assert(name in vars()), \"Double check that your variables are named correctly.\"\n",
    "assert(math.isclose(df_hello[sleep_question].var(), 2.475201072386059)),\"Double check the column question text you've defined in 'sleep_question'.\" \n",
    "assert(math.isclose(sleep_mean, 7.2399463806970505)), \"Your 'sleep_mean' is incorrect.\"\n",
    "assert(math.isclose(sleep_std, 1.5732771759566269)), \"Your 'sleep_std' is incorrect.\"\n",
    "assert(sample_size**2 / 8 == 17391.125), \"Your 'sample_size' is incorrect.\"\n",
    "\n",
    "## == SUCCESS MESSAGE ==\n",
    "# You will only see this message (with the emoji showing) if you passed all test cases:\n",
    "tada = \"\\N{PARTY POPPER}\"\n",
    "print(f\"{tada} All tests passed! {tada}\")"
   ]
  },
  {
   "cell_type": "markdown",
   "metadata": {},
   "source": [
    "## Puzzle 1.2: Finding our P-value\n",
    "Now that we've **calculated and stored** the necessary statistics, we can begin calculating the **P-value** and drawing conclusions about our hypothesis. For the purposes of this lab, we will utilize a significance level of $0.05$. \n",
    "\n",
    "To begin, **run the following import statements**: "
   ]
  },
  {
   "cell_type": "code",
   "execution_count": 43,
   "metadata": {},
   "outputs": [],
   "source": [
    "import scipy.stats"
   ]
  },
  {
   "attachments": {},
   "cell_type": "markdown",
   "metadata": {},
   "source": [
    "This imports the `scipy.stats` library containing functions necessary to calculate our complex statistics and normal distribution values. \n",
    "\n",
    "In the case that the `scipy` module is not found:\n",
    "- If you are on Windows, open the **terminal** and run `py -m pip install scipy`\n",
    "- If you are on Mac (OS X): open the **terminal** and run  `python3 -m pip install scipy`\n",
    "\n",
    "If you are still having import errors, let your lab CAs and TAs know! They will help you install the necessary libraries. "
   ]
  },
  {
   "attachments": {},
   "cell_type": "markdown",
   "metadata": {},
   "source": [
    "\n",
    "Now, calculate the **standard error** in the hours of sleep, storing the result in the **integer variable** `standard_error`. \n",
    "\n",
    "Remember: $SE = \\frac{SD}{\\sqrt{n}}$, where $SE$ is standard error, $SD$ is standard deviation, and $n$ is the sample size. "
   ]
  },
  {
   "cell_type": "code",
   "execution_count": 44,
   "metadata": {},
   "outputs": [
    {
     "data": {
      "text/plain": [
       "0.08146120431227076"
      ]
     },
     "execution_count": 44,
     "metadata": {},
     "output_type": "execute_result"
    }
   ],
   "source": [
    "standard_error = sleep_std / sample_size**0.5\n",
    "standard_error"
   ]
  },
  {
   "attachments": {},
   "cell_type": "markdown",
   "metadata": {},
   "source": [
    "Next, **calculate our test statistic** given the `sleep_mean` and `standard_error` found above, storing the result in the **integer variable** `z_stat`. \n",
    "\n",
    "Remember: $z = \\frac{\\text{value - EV}}{\\text{SE}}$, where $z$ is the z-statistic, $\\text{value}$ is the mean of the data, $\\text{EV}$ is the expected value, and $\\text{SE}$ is the standard error. Our **expected value** is the national average of sleep mentioned above (**6.8 hours**)."
   ]
  },
  {
   "cell_type": "code",
   "execution_count": 45,
   "metadata": {},
   "outputs": [
    {
     "data": {
      "text/plain": [
       "5.400685938923447"
      ]
     },
     "execution_count": 45,
     "metadata": {},
     "output_type": "execute_result"
    }
   ],
   "source": [
    "z_stat = (sleep_mean - 6.8) / standard_error\n",
    "z_stat"
   ]
  },
  {
   "cell_type": "markdown",
   "metadata": {},
   "source": [
    "Finally, we can calculate our P-value! Find it and store our p-value in the **integer variable** `p_value`.\n",
    "\n",
    "This would be the area to the **left or right** of our `z-stat` on the **normal distribution**.\n",
    "\n",
    "We can use the fuction `scipy.stats.norm.cdf()` to find areas of the normal distribution. \n",
    "\n",
    "In the cell below, use your `z-stat` as an **input parameter** to the `scipy.stats.norm.cdf()` function, but remember to **double** the result because we are doing a **two-sided** Z-test. \n"
   ]
  },
  {
   "cell_type": "code",
   "execution_count": 46,
   "metadata": {},
   "outputs": [
    {
     "data": {
      "text/plain": [
       "6.638656091517703e-08"
      ]
     },
     "execution_count": 46,
     "metadata": {},
     "output_type": "execute_result"
    }
   ],
   "source": [
    "p_value = (1 - scipy.stats.norm.cdf(z_stat)) * 2\n",
    "p_value"
   ]
  },
  {
   "attachments": {},
   "cell_type": "markdown",
   "metadata": {},
   "source": [
    "Remember, the P-value is the probability of getting the data we have in DISCOVERY's `df_hello` or something even more extreme **if the null were true**. We default to **\"accepting\"** the **null** hypothesis if the P-value is **larger than** our threshold of $0.05$. Although statisticians prefer we say **do not reject** the null instead of accept."
   ]
  },
  {
   "cell_type": "markdown",
   "metadata": {},
   "source": [
    "### 🔬 Test Case Checkpoint 🔬"
   ]
  },
  {
   "cell_type": "code",
   "execution_count": 47,
   "metadata": {},
   "outputs": [
    {
     "name": "stdout",
     "output_type": "stream",
     "text": [
      "🎉 All tests passed! 🎉\n"
     ]
    }
   ],
   "source": [
    "## == CHECKPOINT TEST CASES ==\n",
    "# - This read-only cell contains test cases for your previous cell.\n",
    "# - If this cell runs without any errors, you PASSED all test cases!\n",
    "# - If this cell results in any errors, check your previous cell, make changes, and RE-RUN your code and then this cell.\n",
    "names = ['standard_error', 'z_stat', 'p_value']\n",
    "for name in names:\n",
    "    assert(name in vars()), \"Double check that your variables are named correctly.\"\n",
    "assert(math.isclose(standard_error, 0.08146120431227076)), \"Your 'standard_error' is incorrect.\"\n",
    "assert(math.isclose(z_stat, 5.400685938923447)), \"Your 'z_stat' is incorrect.\"\n",
    "assert(math.isclose(p_value, 6.638656091517703e-08)), \"Your 'p_value' is incorrect. Try and visualize the normal distribution and the areas to the left or right of your z-stat.\"\n",
    "\n",
    "## == SUCCESS MESSAGE ==\n",
    "# You will only see this message (with the emoji showing) if you passed all test cases:\n",
    "tada = \"\\N{PARTY POPPER}\"\n",
    "print(f\"{tada} All tests passed! {tada}\")"
   ]
  },
  {
   "attachments": {},
   "cell_type": "markdown",
   "metadata": {},
   "source": [
    "### Analysis: Interpretation \n",
    "**Q3: We have now observed the P-value for our hypothesis test. Do we reject or not reject the null hypothesis? Why, and what does this mean in the context of our original question: Do Illinois students get significantly different sleep the average American? Ensure you answer *both* questions.** \n",
    "\n",
    "Remember, our significance level is $0.05$.\n",
    "\n"
   ]
  },
  {
   "attachments": {},
   "cell_type": "markdown",
   "metadata": {},
   "source": [
    "*(✏️ We reject the null hypothesis because our p-value is within our threshold of 0.05. This means that our difference between the two averages are not due to chance. We can say that Illinois students do get signigicantly different sleep than the average American.  ✏️)*"
   ]
  },
  {
   "attachments": {},
   "cell_type": "markdown",
   "metadata": {},
   "source": [
    "## Doing it in Python\n",
    "We had to do a significant amount of calculations by hand to find our P-value. \n",
    "\n",
    "Luckily, Python has a few **libraries** which contain **functions** that allow us to conduct our hypothesis tests without calculating by hand. \n",
    "\n",
    "Before we run these hypothesis test functions, we must **install** and `import` the library they belong to. \n",
    "\n",
    "To install the `statsmodels` library, try running any one of following commands in your **terminal** until successful installation:\n",
    "- `pip install statsmodels`\n",
    "- `pip3 install statsmodels`\n",
    "- `py -m pip install statsmodels`\n",
    "- `python3 -m pip install statsmodels`\n",
    "\n",
    "\n",
    "Then, **run** the following `import` statement:"
   ]
  },
  {
   "cell_type": "code",
   "execution_count": 48,
   "metadata": {},
   "outputs": [],
   "source": [
    "from statsmodels.stats import weightstats"
   ]
  },
  {
   "attachments": {},
   "cell_type": "markdown",
   "metadata": {},
   "source": [
    "This imports the `weightstats` class from the `statsmodels.stats` library, containing the function we need to perform **Z-tests** in Python.\n",
    "\n",
    "The function we will be using is `weightstats.ztest()`. Our use of this function will take **three parameters** in the following order:\n",
    "1. A `list` of sampled values, where a `df[\"column\"]` is something that can be read as a list\n",
    "2. The **expected value** of the null hypothesis, specified using `value=`\n",
    "3. The **alternative hypothesis** to the null value (either 'two-sided', 'larger', or 'smaller', specified using `alternative=`)\n",
    "\n",
    "To learn more about **Z-test function**, visit: https://www.statsmodels.org/dev/generated/statsmodels.stats.weightstats.ztest.html\n"
   ]
  },
  {
   "attachments": {},
   "cell_type": "markdown",
   "metadata": {},
   "source": [
    "## Puzzle 1.3: Z-test in Python\n",
    "Now, let's run the our Z-test! Using the cell below, call the `weightstats.ztest()` function to conduct our Z-test and store the results in the variable `sleep_results`.\n",
    "\n",
    "Remember, our usage of `weightstats.ztest()` takes **three parameters**. Calling it will look like:\n",
    "\n",
    "`weightstats.ztest(list, value=..., alternative=...) `\n",
    "\n",
    "Use your knowledge about our **type of hypothesis test** and the **national sleep average** to fill in the `...`"
   ]
  },
  {
   "cell_type": "code",
   "execution_count": 49,
   "metadata": {},
   "outputs": [
    {
     "data": {
      "text/plain": [
       "(5.400685938923447, 6.638656096400288e-08)"
      ]
     },
     "execution_count": 49,
     "metadata": {},
     "output_type": "execute_result"
    }
   ],
   "source": [
    "sleep_results = weightstats.ztest(df_hello[sleep_question], value = 6.8, alternative = 'two-sided')\n",
    "sleep_results"
   ]
  },
  {
   "cell_type": "markdown",
   "metadata": {},
   "source": [
    "If you print `sleep_result`, it should be a pair of **two values** in the form of $(z, p)$ where $z$ is the `z-stat` and $p$ is the `p-value`. If done correctly, these values should be **almost identical** to what you calculated by hand. "
   ]
  },
  {
   "cell_type": "markdown",
   "metadata": {},
   "source": [
    "### 🔬 Test Case Checkpoint 🔬"
   ]
  },
  {
   "cell_type": "code",
   "execution_count": 50,
   "metadata": {},
   "outputs": [
    {
     "name": "stdout",
     "output_type": "stream",
     "text": [
      "🎉 All tests passed! 🎉\n"
     ]
    }
   ],
   "source": [
    "## == CHECKPOINT TEST CASES ==\n",
    "# - This read-only cell contains test cases for your previous cell.\n",
    "# - If this cell runs without any errors, you PASSED all test cases!\n",
    "# - If this cell results in any errors, check your previous cell, make changes, and RE-RUN your code and then this cell.\n",
    "assert('sleep_results' in vars()), \"Double check your variable name for z-test result. It should be named 'sleep_results'.\"\n",
    "assert(math.isclose(sleep_results[0], 5.400685938923447)), \"The z-stat of your Z-test is incorrect.\"\n",
    "assert(math.isclose(sleep_results[1], 6.638656096400288e-08)), \"The p-value of your Z-test is incorrect.\"\n",
    "assert(math.isclose(sleep_results[0], z_stat)), \"Your z-stat from sleep_result should be equivalent to the 'z_stat' variable defined earlier.\"\n",
    "assert(math.isclose(sleep_results[1], p_value)), \"Your p-value from sleep_result should be equivalent to the 'p-value' variable defined earlier.\"\n",
    "\n",
    "## == SUCCESS MESSAGE ==\n",
    "# You will only see this message (with the emoji showing) if you passed all test cases:\n",
    "tada = \"\\N{PARTY POPPER}\"\n",
    "print(f\"{tada} All tests passed! {tada}\")"
   ]
  },
  {
   "attachments": {},
   "cell_type": "markdown",
   "metadata": {},
   "source": [
    "## Puzzle 1.4: The Party?\n",
    "Our knowledge of the `weightstats.ztest()` function from above lets us conduct a hypothesis test on any of our columns with ease. One of the most **intruiging** questions you all posed (and answered) on the Hello Survey was *\"In the past year, how many times have you been to the party?\"*. The next question we'll answer with a Z-test is:\n",
    "> **Assuming the average student has been to \"the party\" $5$ times in the past year, do UIUC students attend \"the party\" *more* than the average student?**\n",
    "\n",
    "In Puzzles 1.2 and 1.3, we conducted a **two-sided Z-test**, meaning we'd **reject the null** if a value was significantly **less ***or*** greater** than expected. Now, we will conduct a **one-sided Z-test**, meaning we are trying to determine if something is **solely larger** or **solely smaller** than expected. "
   ]
  },
  {
   "attachments": {},
   "cell_type": "markdown",
   "metadata": {},
   "source": [
    "### Defining Our Hypotheses\n",
    "**Q4: Define the null and alternative hypotheses using the cell below. Remember, we assume the average student has been to \"the party\" $5$ times in the last year and believe Illinois students go *more*.**\n",
    "\n"
   ]
  },
  {
   "attachments": {},
   "cell_type": "markdown",
   "metadata": {},
   "source": [
    "*(✏️ Ho = 5, Ha > 5 ✏️)*"
   ]
  },
  {
   "attachments": {},
   "cell_type": "markdown",
   "metadata": {},
   "source": [
    "We can assume again that our Hello Dataset is equivalent to a **random sample** of UIUC students. Conveniently, `df_hello` contains the number of times our sample of students have been to \"the party\" under the **column** named `\"In the past year, how many times have you been to the party?\"`.\n",
    "\n",
    "To begin, assign this column name to a **string variable** named `party_question` using the cell below:"
   ]
  },
  {
   "cell_type": "code",
   "execution_count": 51,
   "metadata": {},
   "outputs": [],
   "source": [
    "party_question = \"In the past year, how many times have you been to the party?\""
   ]
  },
  {
   "attachments": {},
   "cell_type": "markdown",
   "metadata": {},
   "source": [
    "There's something a little tricky about the data we have in this column. Some people haven't filled out the answer to this captivating question, causing `NaN` (empty) values to appear. Dealing with **null values** is a **common occurrence** in Data Science.\n",
    "\n",
    "- When creating the list, you'll want to use `df[\"column\"].dropna()` to make sure to not include any `NaN values`."
   ]
  },
  {
   "attachments": {},
   "cell_type": "markdown",
   "metadata": {},
   "source": [
    "## Puzzle 1.5: Writing The Test\n",
    "\n",
    "Now we have everything ready to conduct our **one-sided Z-test**. \n",
    "\n",
    "Using the cell below, call the `weightstats.ztest()` function to conduct our **one-sided Z-test**, storing the results in the variable `party_results`.\n",
    "\n",
    "Our usage of `weightstats.ztest()` takes **three parameters**. Calling it will look like:\n",
    "\n",
    "`weightstats.ztest(list, value=..., alternative=...) `\n",
    "\n",
    "Remember we are conducting a **one-sided** test to determine whether Illinois students have been to \"the party\" **more** than the **$5$ times** in the past year that the average student has been to. "
   ]
  },
  {
   "cell_type": "code",
   "execution_count": 52,
   "metadata": {},
   "outputs": [
    {
     "data": {
      "text/plain": [
       "(3.430286073672394, 0.00030147260102915646)"
      ]
     },
     "execution_count": 52,
     "metadata": {},
     "output_type": "execute_result"
    }
   ],
   "source": [
    "party_results = weightstats.ztest( df_hello[party_question].dropna(), value = 5, alternative = 'larger')\n",
    "party_results"
   ]
  },
  {
   "cell_type": "markdown",
   "metadata": {},
   "source": [
    "### 🔬 Test Case Checkpoint 🔬"
   ]
  },
  {
   "cell_type": "code",
   "execution_count": 53,
   "metadata": {},
   "outputs": [
    {
     "name": "stdout",
     "output_type": "stream",
     "text": [
      "🎉 All tests passed! 🎉\n"
     ]
    }
   ],
   "source": [
    "## == CHECKPOINT TEST CASES ==\n",
    "# - This read-only cell contains test cases for your previous cell.\n",
    "# - If this cell runs without any errors, you PASSED all test cases!\n",
    "# - If this cell results in any errors, check your previous cell, make changes, and RE-RUN your code and then this cell.\n",
    "assert('party_results' in vars()), \"Double check your variable name for z-test result. It should be named 'party_results'.\"\n",
    "assert(math.isclose(party_results[0], 3.430286073672394)), \"The z-stat of your Z-test is incorrect.\"\n",
    "assert(math.isclose(party_results[1], 0.00030147260102915646)), \"The p-value of your Z-test is incorrect.\"\n",
    "\n",
    "## == SUCCESS MESSAGE ==\n",
    "# You will only see this message (with the emoji showing) if you passed all test cases:\n",
    "tada = \"\\N{PARTY POPPER}\"\n",
    "print(f\"{tada} All tests passed! {tada}\")"
   ]
  },
  {
   "attachments": {},
   "cell_type": "markdown",
   "metadata": {},
   "source": [
    "### Analysis: Interpretation \n",
    "**Q5: We have now observed the P-value for our hypothesis test. Do we reject or accept the null hypothesis? Why, and what does this mean in the context of our original question: Do UIUC students attend \"the party\" *more* than the average student? Ensure you answer *both* questions.** \n",
    "\n",
    "Remember, our significance level is $0.05$.\n",
    "\n"
   ]
  },
  {
   "attachments": {},
   "cell_type": "markdown",
   "metadata": {},
   "source": [
    "*(✏️ we reject our null hypothesis becuase our p-value is lower than our significant level of 0.05. From this we can say with evidence that UIUC students attend the party more than the average students.✏️)*"
   ]
  },
  {
   "cell_type": "markdown",
   "metadata": {},
   "source": [
    "<hr style=\"color: #DD3403;\">"
   ]
  },
  {
   "attachments": {},
   "cell_type": "markdown",
   "metadata": {},
   "source": [
    "# Part 2: Happiness and Credit Hours\n",
    "Let's do another hypothesis test! This time we are going to look at the relationship between happiness and credit hours! \n",
    "\n",
    "Taking random samples of student subgroups from `df_hello`, we may answer the following question:\n",
    "- **Are students who take less credit hours significantly *happier* than students who take more?**\n",
    "\n",
    "To answer, we will perform a **one-sided two-sample z-test**. "
   ]
  },
  {
   "attachments": {},
   "cell_type": "markdown",
   "metadata": {},
   "source": [
    "## Puzzle 2.1: Setting Up\n",
    "Now, let's run the our Z-test! \n",
    "\n",
    "To make our code **simpler and readable**, in the next cell, create two variables for future column subselection from our `df_hello`:\n",
    "1. A **string variable** named `credits_question`, containing the **string**: \"How many credit hours are you taking?\"\n",
    "2. A **string variable** named `happiness_question`, containing the **string**:  \"From 1 to 10, how happy are you right now?\"\n"
   ]
  },
  {
   "cell_type": "code",
   "execution_count": 54,
   "metadata": {},
   "outputs": [],
   "source": [
    "credits_question = \"How many credit hours are you taking?\"\n",
    "happiness_question = \"From 1 to 10, how happy are you right now?\""
   ]
  },
  {
   "attachments": {},
   "cell_type": "markdown",
   "metadata": {},
   "source": [
    "Again, we will need to **clean** our DataFrame before conducting these tests. Here's a list of issues we will need to take care of before doing our Z-test:\n",
    "- Some people **did not respond** to the `credits_question`, producing `NaN` values. \n",
    "- Some people responded with **unreasonable** answers to the `credits_question` (any answer **above 25** does not make sense)\n",
    "- Some people **did not respond** to the `happiness_question`, producing `NaN` values.\n",
    "- Some people responded with **unreasonable** answers to the `happiness_question` (any answer **above 10** does not make sense because of the 1-10 scale)\n",
    "\n",
    "Using your knowledge of conditionals and `.dropna()`, remove any columns that cause these issues in our `df_hello`, storing the ultimate result in a new DataFrame, `df_clean`. \n",
    "\n",
    "**Hint**: you can use conditionals on top of `.dropna()`, using syntax like `df[column].dropna() <= ...`"
   ]
  },
  {
   "cell_type": "code",
   "execution_count": 55,
   "metadata": {},
   "outputs": [
    {
     "data": {
      "text/html": [
       "<div>\n",
       "<style scoped>\n",
       "    .dataframe tbody tr th:only-of-type {\n",
       "        vertical-align: middle;\n",
       "    }\n",
       "\n",
       "    .dataframe tbody tr th {\n",
       "        vertical-align: top;\n",
       "    }\n",
       "\n",
       "    .dataframe thead th {\n",
       "        text-align: right;\n",
       "    }\n",
       "</style>\n",
       "<table border=\"1\" class=\"dataframe\">\n",
       "  <thead>\n",
       "    <tr style=\"text-align: right;\">\n",
       "      <th></th>\n",
       "      <th>From 1 to 10, how happy are you right now?</th>\n",
       "      <th>How many credit hours are you taking?</th>\n",
       "    </tr>\n",
       "  </thead>\n",
       "  <tbody>\n",
       "    <tr>\n",
       "      <th>0</th>\n",
       "      <td>2.0</td>\n",
       "      <td>0.0</td>\n",
       "    </tr>\n",
       "    <tr>\n",
       "      <th>3</th>\n",
       "      <td>7.0</td>\n",
       "      <td>15.0</td>\n",
       "    </tr>\n",
       "    <tr>\n",
       "      <th>4</th>\n",
       "      <td>7.0</td>\n",
       "      <td>16.0</td>\n",
       "    </tr>\n",
       "    <tr>\n",
       "      <th>5</th>\n",
       "      <td>8.0</td>\n",
       "      <td>12.0</td>\n",
       "    </tr>\n",
       "    <tr>\n",
       "      <th>6</th>\n",
       "      <td>8.0</td>\n",
       "      <td>17.0</td>\n",
       "    </tr>\n",
       "    <tr>\n",
       "      <th>...</th>\n",
       "      <td>...</td>\n",
       "      <td>...</td>\n",
       "    </tr>\n",
       "    <tr>\n",
       "      <th>368</th>\n",
       "      <td>7.0</td>\n",
       "      <td>16.0</td>\n",
       "    </tr>\n",
       "    <tr>\n",
       "      <th>369</th>\n",
       "      <td>8.0</td>\n",
       "      <td>17.0</td>\n",
       "    </tr>\n",
       "    <tr>\n",
       "      <th>370</th>\n",
       "      <td>1.0</td>\n",
       "      <td>16.0</td>\n",
       "    </tr>\n",
       "    <tr>\n",
       "      <th>371</th>\n",
       "      <td>6.0</td>\n",
       "      <td>19.0</td>\n",
       "    </tr>\n",
       "    <tr>\n",
       "      <th>372</th>\n",
       "      <td>8.0</td>\n",
       "      <td>12.0</td>\n",
       "    </tr>\n",
       "  </tbody>\n",
       "</table>\n",
       "<p>365 rows × 2 columns</p>\n",
       "</div>"
      ],
      "text/plain": [
       "     From 1 to 10, how happy are you right now?  \\\n",
       "0                                           2.0   \n",
       "3                                           7.0   \n",
       "4                                           7.0   \n",
       "5                                           8.0   \n",
       "6                                           8.0   \n",
       "..                                          ...   \n",
       "368                                         7.0   \n",
       "369                                         8.0   \n",
       "370                                         1.0   \n",
       "371                                         6.0   \n",
       "372                                         8.0   \n",
       "\n",
       "     How many credit hours are you taking?  \n",
       "0                                      0.0  \n",
       "3                                     15.0  \n",
       "4                                     16.0  \n",
       "5                                     12.0  \n",
       "6                                     17.0  \n",
       "..                                     ...  \n",
       "368                                   16.0  \n",
       "369                                   17.0  \n",
       "370                                   16.0  \n",
       "371                                   19.0  \n",
       "372                                   12.0  \n",
       "\n",
       "[365 rows x 2 columns]"
      ]
     },
     "execution_count": 55,
     "metadata": {},
     "output_type": "execute_result"
    }
   ],
   "source": [
    "df_clean = df_hello[ (df_hello[happiness_question] <= 10) & (df_hello[credits_question] <= 25)]\n",
    "df_clean = df_clean[[happiness_question, credits_question]].dropna()\n",
    "df_clean"
   ]
  },
  {
   "cell_type": "markdown",
   "metadata": {},
   "source": [
    "### 🔬 Test Case Checkpoint 🔬"
   ]
  },
  {
   "cell_type": "code",
   "execution_count": 56,
   "metadata": {},
   "outputs": [
    {
     "name": "stdout",
     "output_type": "stream",
     "text": [
      "🎉 All tests passed! 🎉\n"
     ]
    }
   ],
   "source": [
    "## == CHECKPOINT TEST CASES ==\n",
    "# - This read-only cell contains test cases for your previous cell.\n",
    "# - If this cell runs without any errors, you PASSED all test cases!\n",
    "# - If this cell results in any errors, check your previous cell, make changes, and RE-RUN your code and then this cell.\n",
    "assert(math.isclose(df_hello[credits_question].std(), 3.4364366576120426)), \"Double check the column question text you've defined in 'credits_question'.\" \n",
    "assert(math.isclose(df_hello[happiness_question].var(), 27.889730458221027)), \"Double check the column question text you've defined in 'happiness_question'.\" \n",
    "assert('df_clean' in vars()), \"Your new DataFrame should be named df_clean.\"\n",
    "assert(df_clean[credits_question].isnull().any() == False), \"There are still NaN values in the credits_question column.\"\n",
    "assert(df_clean[happiness_question].isnull().any() == False), \"There are still NaN values in the happiness_question column.\"\n",
    "assert(len(df_clean) == 365), \"Double check that you've cleaned NaN values from both question columns as well as the out-of-bounds values specified in the instructions.\"\n",
    "\n",
    "## == SUCCESS MESSAGE ==\n",
    "# You will only see this message (with the emoji showing) if you passed all test cases:\n",
    "tada = \"\\N{PARTY POPPER}\"\n",
    "print(f\"{tada} All tests passed! {tada}\")"
   ]
  },
  {
   "attachments": {},
   "cell_type": "markdown",
   "metadata": {},
   "source": [
    "Now that we have cleaned our columns in `df_clean`, we can continue with our z-test setup. \n",
    "\n",
    "Recall that **z-tests** should only be done on **large, random** samples. We will take samples of our `df_clean` from two **stratified groups**: students who take **many credit hours** and students who **do not**. \n",
    "\n",
    "For this, we will consider **15 or more credit hours** as **\"many\"**. \n",
    "\n",
    "Using your `credits_question` variable, create **two** new `DataFrames`: \n",
    "- `df_many_credits`, containing the rows from `df_clean` with students taking **15 or more** credit hours. \n",
    "- `df_less_credits`, containing the rows from `df_clean` with students taking **less than 15** credit hours."
   ]
  },
  {
   "cell_type": "code",
   "execution_count": 57,
   "metadata": {},
   "outputs": [],
   "source": [
    "df_many_credits = df_clean[ df_clean[credits_question] >= 15]\n",
    "df_less_credits = df_clean[ df_clean[credits_question] < 15]"
   ]
  },
  {
   "attachments": {},
   "cell_type": "markdown",
   "metadata": {},
   "source": [
    "We will take **random samples** from our `df_many_credits` and `df_less_credits` to be used for our **z-test**.\n",
    "\n",
    "In the following cell, define the following two new `DataFrames` containing our samples:\n",
    "- `df_many_sample`, containing 50 random rows from `df_many_credits`\n",
    "- `df_less_sample`, containing 50 random rows from `df_less_credits` "
   ]
  },
  {
   "cell_type": "code",
   "execution_count": 58,
   "metadata": {},
   "outputs": [],
   "source": [
    "df_many_sample = df_many_credits.sample(n = 50)\n",
    "df_less_sample = df_less_credits.sample(n = 50)"
   ]
  },
  {
   "attachments": {},
   "cell_type": "markdown",
   "metadata": {},
   "source": [
    "## Puzzle 2.2: Conducting the Test\n",
    "Now we have the samples we need for our **two-sample Z-test**.\n",
    "\n",
    "Now, let's run the our Z-test! Using the cell below, call the `weightstats.ztest()` function to conduct our Z-test and store the results in the variable `happy_results`."
   ]
  },
  {
   "cell_type": "code",
   "execution_count": 59,
   "metadata": {},
   "outputs": [
    {
     "data": {
      "text/plain": [
       "(-1.604491655951094, 0.945697138882453)"
      ]
     },
     "execution_count": 59,
     "metadata": {},
     "output_type": "execute_result"
    }
   ],
   "source": [
    "happy_results = weightstats.ztest( df_many_sample[happiness_question], df_less_sample[happiness_question], alternative = 'larger')\n",
    "happy_results"
   ]
  },
  {
   "attachments": {},
   "cell_type": "markdown",
   "metadata": {},
   "source": [
    "### Analysis: Interpretation \n",
    "**Q6: We have now observed the P-value for our hypothesis test. Do we reject or not reject the null hypothesis? Why, and what does this mean in the context of our original question: Are students who take less credit hours significantly happier than students who take more? Ensure you answer *both* questions**.\n",
    "\n",
    "Remember, our significance level is $0.05$.\n"
   ]
  },
  {
   "attachments": {},
   "cell_type": "markdown",
   "metadata": {},
   "source": [
    "*(✏️ Looking at our P-value, we do not reject because our P-value is greater than our significance level of 0.05. This means that students who take less credit hours are not significantly happier than students who take more credits. ✏️)*"
   ]
  },
  {
   "cell_type": "markdown",
   "metadata": {},
   "source": [
    "<hr style=\"color: #DD3403;\">"
   ]
  },
  {
   "cell_type": "markdown",
   "metadata": {},
   "source": [
    "# Submission\n",
    "\n",
    "You're almost done!  All you need to do is to commit your lab to GitHub:\n",
    "\n",
    "1.  ⚠️ **Make certain to save your work.** ⚠️ To do this, go to **File => Save All**\n",
    "\n",
    "2.  After you have saved, exit this notebook and follow the Canvas instructions to commit this lab to your Git repository!\n",
    "\n",
    "3. Your TA will grade your submission and provide you feedback after the lab is due. :)"
   ]
  }
 ],
 "metadata": {
  "kernelspec": {
   "display_name": "Python 3.9.12 ('base')",
   "language": "python",
   "name": "python3"
  },
  "language_info": {
   "codemirror_mode": {
    "name": "ipython",
    "version": 3
   },
   "file_extension": ".py",
   "mimetype": "text/x-python",
   "name": "python",
   "nbconvert_exporter": "python",
   "pygments_lexer": "ipython3",
   "version": "3.10.11"
  },
  "orig_nbformat": 4,
  "vscode": {
   "interpreter": {
    "hash": "6e4deb337457fa8947131008f75dc159c243dc668058f6d523698d9cd505a843"
   }
  }
 },
 "nbformat": 4,
 "nbformat_minor": 2
}
